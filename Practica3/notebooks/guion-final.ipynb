{
  "nbformat": 4,
  "nbformat_minor": 0,
  "metadata": {
    "colab": {
      "name": "p3-test.ipynb",
      "provenance": [],
      "collapsed_sections": []
    },
    "kernelspec": {
      "name": "python3",
      "display_name": "Python 3",
      "language": "python"
    }
  },
  "cells": [
    {
      "cell_type": "markdown",
      "metadata": {
        "id": "BHlpRbkfOMqB"
      },
      "source": [
        "# PRÁCTICA 3\r\n",
        "\r\n",
        "\r\n",
        "***Competición en Kaggle***\r\n",
        "\r\n",
        "---\r\n",
        "\r\n",
        "\r\n",
        "**José María Sanchez Guerrero**\r\n",
        "\r\n",
        "\r\n",
        "---\r\n",
        "\r\n",
        "\r\n"
      ]
    },
    {
      "cell_type": "code",
      "metadata": {
        "colab": {
          "base_uri": "https://localhost:8080/"
        },
        "id": "CfvHKmTkOC1C",
        "outputId": "1799287b-e40c-49d4-befc-19f270108905"
      },
      "source": [
        "# -*- coding: utf-8 -*-\n",
        "\n",
        "import numpy as np\n",
        "import matplotlib.pyplot as plt\n",
        "import pandas as pd\n",
        "\n",
        "# Modelos\n",
        "from sklearn.ensemble import RandomForestClassifier\n",
        "from sklearn.linear_model import LogisticRegression\n",
        "from sklearn.neural_network import MLPClassifier\n",
        "from sklearn.preprocessing import StandardScaler\n",
        "from sklearn.dummy import DummyClassifier\n",
        "\n",
        "# Utiles para seleccion de modelos\n",
        "from sklearn.model_selection import train_test_split, StratifiedKFold, cross_val_score, learning_curve\n",
        "\n",
        "# Pipelines\n",
        "from sklearn.pipeline import make_pipeline\n",
        "\n",
        "# Grid Search\n",
        "from sklearn.model_selection import GridSearchCV\n",
        "\n",
        "# Ignorar warnings\n",
        "import warnings\n",
        "warnings.filterwarnings('ignore')\n"
      ],
      "execution_count": 1,
      "outputs": []
    },
    {
      "cell_type": "code",
      "metadata": {
        "id": "bbCs2aZwOuyl"
      },
      "source": [
        "# Lectura de datos con pandas\n",
        "df_train = pd.read_csv(\"train.csv\")\n",
        "df_test = pd.read_csv(\"test.csv\")\n",
        "\n",
        "y_train = df_train['Precio_cat']\n",
        "df_train = df_train.drop(['Precio_cat'], axis=1)\n",
        "\n",
        "df_train = df_train.drop(['id'], axis=1)\n",
        "sample = df_test['id'].to_frame()\n",
        "df_test = df_test.drop(['id'], axis=1)\n",
        "\n",
        "df = df_train.append(df_test, ignore_index=True) #4819 - end"
      ],
      "execution_count": 2,
      "outputs": []
    },
    {
      "source": [
        "## Preprocesado"
      ],
      "cell_type": "markdown",
      "metadata": {}
    },
    {
      "cell_type": "code",
      "execution_count": 3,
      "metadata": {},
      "outputs": [
        {
          "output_type": "execute_result",
          "data": {
            "text/plain": [
              "     Nombre Ciudad     Año  Kilometros Combustible Tipo_marchas   Mano  \\\n",
              "0    Maruti      G  2012.0     83000.0      Diesel       Manual  First   \n",
              "1    Maruti      I  2016.0      4800.0      Petrol       Manual  First   \n",
              "2  Mahindra      F  2016.0     26000.0      Diesel       Manual  First   \n",
              "3   Hyundai      E  2013.0     56127.0      Petrol       Manual  First   \n",
              "4     Honda      H  2017.0     41981.0      Petrol       Manual  First   \n",
              "\n",
              "   Consumo  Motor_CC  Potencia  Asientos  Descuento  \n",
              "0    23.40    1248.0     74.00       5.0        NaN  \n",
              "1    20.51     998.0     67.04       5.0        NaN  \n",
              "2    25.32    1198.0     77.00       6.0        NaN  \n",
              "3    18.50    1197.0     80.00       5.0        NaN  \n",
              "4    18.70    1199.0     88.70       5.0        NaN  "
            ],
            "text/html": "<div>\n<style scoped>\n    .dataframe tbody tr th:only-of-type {\n        vertical-align: middle;\n    }\n\n    .dataframe tbody tr th {\n        vertical-align: top;\n    }\n\n    .dataframe thead th {\n        text-align: right;\n    }\n</style>\n<table border=\"1\" class=\"dataframe\">\n  <thead>\n    <tr style=\"text-align: right;\">\n      <th></th>\n      <th>Nombre</th>\n      <th>Ciudad</th>\n      <th>Año</th>\n      <th>Kilometros</th>\n      <th>Combustible</th>\n      <th>Tipo_marchas</th>\n      <th>Mano</th>\n      <th>Consumo</th>\n      <th>Motor_CC</th>\n      <th>Potencia</th>\n      <th>Asientos</th>\n      <th>Descuento</th>\n    </tr>\n  </thead>\n  <tbody>\n    <tr>\n      <th>0</th>\n      <td>Maruti</td>\n      <td>G</td>\n      <td>2012.0</td>\n      <td>83000.0</td>\n      <td>Diesel</td>\n      <td>Manual</td>\n      <td>First</td>\n      <td>23.40</td>\n      <td>1248.0</td>\n      <td>74.00</td>\n      <td>5.0</td>\n      <td>NaN</td>\n    </tr>\n    <tr>\n      <th>1</th>\n      <td>Maruti</td>\n      <td>I</td>\n      <td>2016.0</td>\n      <td>4800.0</td>\n      <td>Petrol</td>\n      <td>Manual</td>\n      <td>First</td>\n      <td>20.51</td>\n      <td>998.0</td>\n      <td>67.04</td>\n      <td>5.0</td>\n      <td>NaN</td>\n    </tr>\n    <tr>\n      <th>2</th>\n      <td>Mahindra</td>\n      <td>F</td>\n      <td>2016.0</td>\n      <td>26000.0</td>\n      <td>Diesel</td>\n      <td>Manual</td>\n      <td>First</td>\n      <td>25.32</td>\n      <td>1198.0</td>\n      <td>77.00</td>\n      <td>6.0</td>\n      <td>NaN</td>\n    </tr>\n    <tr>\n      <th>3</th>\n      <td>Hyundai</td>\n      <td>E</td>\n      <td>2013.0</td>\n      <td>56127.0</td>\n      <td>Petrol</td>\n      <td>Manual</td>\n      <td>First</td>\n      <td>18.50</td>\n      <td>1197.0</td>\n      <td>80.00</td>\n      <td>5.0</td>\n      <td>NaN</td>\n    </tr>\n    <tr>\n      <th>4</th>\n      <td>Honda</td>\n      <td>H</td>\n      <td>2017.0</td>\n      <td>41981.0</td>\n      <td>Petrol</td>\n      <td>Manual</td>\n      <td>First</td>\n      <td>18.70</td>\n      <td>1199.0</td>\n      <td>88.70</td>\n      <td>5.0</td>\n      <td>NaN</td>\n    </tr>\n  </tbody>\n</table>\n</div>"
          },
          "metadata": {},
          "execution_count": 3
        }
      ],
      "source": [
        "# Quitamos las unidades de los valores en train\n",
        "X = df.copy()\n",
        "\n",
        "X['Nombre'] = X['Nombre'].str.split(' ').str[0]\n",
        "X['Consumo'] = X.Consumo.str.extract(r'(\\d+[.\\d]*)').astype(float)\n",
        "X['Motor_CC'] = X.Motor_CC.str.extract(r'(\\d+[.\\d]*)').astype(float)\n",
        "X['Potencia'] = X.Potencia.str.extract(r'(\\d+[.\\d]*)').astype(float)\n",
        "\n",
        "\n",
        "X.head()"
      ]
    },
    {
      "cell_type": "code",
      "execution_count": 4,
      "metadata": {},
      "outputs": [
        {
          "output_type": "stream",
          "name": "stdout",
          "text": [
            "Feature 'Nombre' has 32 unique categories\nFeature 'Ciudad' has 12 unique categories\nFeature 'Combustible' has 6 unique categories\nFeature 'Tipo_marchas' has 3 unique categories\nFeature 'Mano' has 5 unique categories\n"
          ]
        }
      ],
      "source": [
        "for col_name in X.columns:\n",
        "    if X[col_name].dtypes == 'object':\n",
        "        unique_cat = len(X[col_name].unique())\n",
        "        print(\"Feature '{col_name}' has {unique_cat} unique categories\".format(\n",
        "            col_name=col_name, unique_cat=unique_cat))"
      ]
    },
    {
      "cell_type": "code",
      "execution_count": 5,
      "metadata": {},
      "outputs": [
        {
          "output_type": "execute_result",
          "data": {
            "text/plain": [
              "     Nombre Ciudad     Año  Kilometros Combustible Tipo_marchas    Mano  \\\n",
              "0    Maruti      G  2012.0     83000.0      Diesel       Manual   First   \n",
              "1    Maruti      I  2016.0      4800.0      Petrol       Manual   First   \n",
              "2  Mahindra      F  2016.0     26000.0      Diesel       Manual   First   \n",
              "3   Hyundai      E  2013.0     56127.0      Petrol       Manual   First   \n",
              "4     Honda      H  2017.0     41981.0      Petrol       Manual   First   \n",
              "5    Maruti      C  2009.0    140000.0      Diesel       Manual  Second   \n",
              "6    Maruti      G  2014.0     75074.0      Diesel       Manual   First   \n",
              "7     Honda      J  2011.0     60000.0      Petrol    Automatic   First   \n",
              "8   Hyundai      E  2017.0     26185.0      Petrol       Manual   First   \n",
              "9    Maruti      L  2017.0     49224.0      Diesel       Manual   First   \n",
              "\n",
              "   Consumo  Motor_CC  Potencia  Asientos  Descuento  \n",
              "0    23.40    1248.0     74.00       5.0        NaN  \n",
              "1    20.51     998.0     67.04       5.0        NaN  \n",
              "2    25.32    1198.0     77.00       6.0        NaN  \n",
              "3    18.50    1197.0     80.00       5.0        NaN  \n",
              "4    18.70    1199.0     88.70       5.0        NaN  \n",
              "5    17.80    1248.0     75.00       5.0        NaN  \n",
              "6    23.40    1248.0     74.00       5.0        NaN  \n",
              "7    16.80    1497.0    118.00       5.0        NaN  \n",
              "8    18.60    1197.0     81.83       5.0        NaN  \n",
              "9    25.20    1248.0     74.00       5.0        NaN  "
            ],
            "text/html": "<div>\n<style scoped>\n    .dataframe tbody tr th:only-of-type {\n        vertical-align: middle;\n    }\n\n    .dataframe tbody tr th {\n        vertical-align: top;\n    }\n\n    .dataframe thead th {\n        text-align: right;\n    }\n</style>\n<table border=\"1\" class=\"dataframe\">\n  <thead>\n    <tr style=\"text-align: right;\">\n      <th></th>\n      <th>Nombre</th>\n      <th>Ciudad</th>\n      <th>Año</th>\n      <th>Kilometros</th>\n      <th>Combustible</th>\n      <th>Tipo_marchas</th>\n      <th>Mano</th>\n      <th>Consumo</th>\n      <th>Motor_CC</th>\n      <th>Potencia</th>\n      <th>Asientos</th>\n      <th>Descuento</th>\n    </tr>\n  </thead>\n  <tbody>\n    <tr>\n      <th>0</th>\n      <td>Maruti</td>\n      <td>G</td>\n      <td>2012.0</td>\n      <td>83000.0</td>\n      <td>Diesel</td>\n      <td>Manual</td>\n      <td>First</td>\n      <td>23.40</td>\n      <td>1248.0</td>\n      <td>74.00</td>\n      <td>5.0</td>\n      <td>NaN</td>\n    </tr>\n    <tr>\n      <th>1</th>\n      <td>Maruti</td>\n      <td>I</td>\n      <td>2016.0</td>\n      <td>4800.0</td>\n      <td>Petrol</td>\n      <td>Manual</td>\n      <td>First</td>\n      <td>20.51</td>\n      <td>998.0</td>\n      <td>67.04</td>\n      <td>5.0</td>\n      <td>NaN</td>\n    </tr>\n    <tr>\n      <th>2</th>\n      <td>Mahindra</td>\n      <td>F</td>\n      <td>2016.0</td>\n      <td>26000.0</td>\n      <td>Diesel</td>\n      <td>Manual</td>\n      <td>First</td>\n      <td>25.32</td>\n      <td>1198.0</td>\n      <td>77.00</td>\n      <td>6.0</td>\n      <td>NaN</td>\n    </tr>\n    <tr>\n      <th>3</th>\n      <td>Hyundai</td>\n      <td>E</td>\n      <td>2013.0</td>\n      <td>56127.0</td>\n      <td>Petrol</td>\n      <td>Manual</td>\n      <td>First</td>\n      <td>18.50</td>\n      <td>1197.0</td>\n      <td>80.00</td>\n      <td>5.0</td>\n      <td>NaN</td>\n    </tr>\n    <tr>\n      <th>4</th>\n      <td>Honda</td>\n      <td>H</td>\n      <td>2017.0</td>\n      <td>41981.0</td>\n      <td>Petrol</td>\n      <td>Manual</td>\n      <td>First</td>\n      <td>18.70</td>\n      <td>1199.0</td>\n      <td>88.70</td>\n      <td>5.0</td>\n      <td>NaN</td>\n    </tr>\n    <tr>\n      <th>5</th>\n      <td>Maruti</td>\n      <td>C</td>\n      <td>2009.0</td>\n      <td>140000.0</td>\n      <td>Diesel</td>\n      <td>Manual</td>\n      <td>Second</td>\n      <td>17.80</td>\n      <td>1248.0</td>\n      <td>75.00</td>\n      <td>5.0</td>\n      <td>NaN</td>\n    </tr>\n    <tr>\n      <th>6</th>\n      <td>Maruti</td>\n      <td>G</td>\n      <td>2014.0</td>\n      <td>75074.0</td>\n      <td>Diesel</td>\n      <td>Manual</td>\n      <td>First</td>\n      <td>23.40</td>\n      <td>1248.0</td>\n      <td>74.00</td>\n      <td>5.0</td>\n      <td>NaN</td>\n    </tr>\n    <tr>\n      <th>7</th>\n      <td>Honda</td>\n      <td>J</td>\n      <td>2011.0</td>\n      <td>60000.0</td>\n      <td>Petrol</td>\n      <td>Automatic</td>\n      <td>First</td>\n      <td>16.80</td>\n      <td>1497.0</td>\n      <td>118.00</td>\n      <td>5.0</td>\n      <td>NaN</td>\n    </tr>\n    <tr>\n      <th>8</th>\n      <td>Hyundai</td>\n      <td>E</td>\n      <td>2017.0</td>\n      <td>26185.0</td>\n      <td>Petrol</td>\n      <td>Manual</td>\n      <td>First</td>\n      <td>18.60</td>\n      <td>1197.0</td>\n      <td>81.83</td>\n      <td>5.0</td>\n      <td>NaN</td>\n    </tr>\n    <tr>\n      <th>9</th>\n      <td>Maruti</td>\n      <td>L</td>\n      <td>2017.0</td>\n      <td>49224.0</td>\n      <td>Diesel</td>\n      <td>Manual</td>\n      <td>First</td>\n      <td>25.20</td>\n      <td>1248.0</td>\n      <td>74.00</td>\n      <td>5.0</td>\n      <td>NaN</td>\n    </tr>\n  </tbody>\n</table>\n</div>"
          },
          "metadata": {},
          "execution_count": 5
        }
      ],
      "source": [
        "#X = X.drop(['Nombre'], axis=1)\n",
        "\n",
        "X.head(10)"
      ]
    },
    {
      "cell_type": "code",
      "execution_count": 6,
      "metadata": {},
      "outputs": [
        {
          "output_type": "stream",
          "name": "stdout",
          "text": [
            "Diesel      3155\nPetrol      2685\nCNG           55\nLPG           10\nElectric       1\nName: Combustible, dtype: int64\n"
          ]
        }
      ],
      "source": [
        "print(X['Combustible'].value_counts().sort_values(ascending=False).head())"
      ]
    },
    {
      "cell_type": "code",
      "execution_count": 7,
      "metadata": {},
      "outputs": [],
      "source": [
        "X['Combustible'] = ['Other' if not (x == 'Diesel' or x == 'Petrol' or pd.isna(x)) else x for x in X['Combustible']]"
      ]
    },
    {
      "cell_type": "code",
      "execution_count": 8,
      "metadata": {},
      "outputs": [],
      "source": [
        "todummy_list = ['Nombre', 'Ciudad', 'Combustible', 'Tipo_marchas', 'Mano']\n",
        "\n",
        "# Funcion para las variables categoricas\n",
        "def dummy_df(df, todummy_list):\n",
        "    for x in todummy_list:\n",
        "        dummies = pd.get_dummies(df[x], prefix=x, dummy_na=False)\n",
        "        df = df.drop(x, 1)\n",
        "        df = pd.concat([df, dummies], axis=1)\n",
        "    return df"
      ]
    },
    {
      "cell_type": "code",
      "execution_count": 9,
      "metadata": {},
      "outputs": [],
      "source": [
        "X = dummy_df(X, todummy_list)"
      ]
    },
    {
      "cell_type": "code",
      "execution_count": 10,
      "metadata": {},
      "outputs": [
        {
          "output_type": "execute_result",
          "data": {
            "text/plain": [
              "      Año  Kilometros  Consumo  Motor_CC  Potencia  Asientos  Descuento  \\\n",
              "0  2012.0     83000.0    23.40    1248.0     74.00       5.0        NaN   \n",
              "1  2016.0      4800.0    20.51     998.0     67.04       5.0        NaN   \n",
              "2  2016.0     26000.0    25.32    1198.0     77.00       6.0        NaN   \n",
              "3  2013.0     56127.0    18.50    1197.0     80.00       5.0        NaN   \n",
              "4  2017.0     41981.0    18.70    1199.0     88.70       5.0        NaN   \n",
              "5  2009.0    140000.0    17.80    1248.0     75.00       5.0        NaN   \n",
              "6  2014.0     75074.0    23.40    1248.0     74.00       5.0        NaN   \n",
              "7  2011.0     60000.0    16.80    1497.0    118.00       5.0        NaN   \n",
              "8  2017.0     26185.0    18.60    1197.0     81.83       5.0        NaN   \n",
              "9  2017.0     49224.0    25.20    1248.0     74.00       5.0        NaN   \n",
              "\n",
              "   Nombre_Ambassador  Nombre_Audi  Nombre_BMW  ...  Ciudad_L  \\\n",
              "0                  0            0           0  ...         0   \n",
              "1                  0            0           0  ...         0   \n",
              "2                  0            0           0  ...         0   \n",
              "3                  0            0           0  ...         0   \n",
              "4                  0            0           0  ...         0   \n",
              "5                  0            0           0  ...         0   \n",
              "6                  0            0           0  ...         0   \n",
              "7                  0            0           0  ...         0   \n",
              "8                  0            0           0  ...         0   \n",
              "9                  0            0           0  ...         1   \n",
              "\n",
              "   Combustible_Diesel  Combustible_Other  Combustible_Petrol  \\\n",
              "0                   1                  0                   0   \n",
              "1                   0                  0                   1   \n",
              "2                   1                  0                   0   \n",
              "3                   0                  0                   1   \n",
              "4                   0                  0                   1   \n",
              "5                   1                  0                   0   \n",
              "6                   1                  0                   0   \n",
              "7                   0                  0                   1   \n",
              "8                   0                  0                   1   \n",
              "9                   1                  0                   0   \n",
              "\n",
              "   Tipo_marchas_Automatic  Tipo_marchas_Manual  Mano_First  \\\n",
              "0                       0                    1           1   \n",
              "1                       0                    1           1   \n",
              "2                       0                    1           1   \n",
              "3                       0                    1           1   \n",
              "4                       0                    1           1   \n",
              "5                       0                    1           0   \n",
              "6                       0                    1           1   \n",
              "7                       1                    0           1   \n",
              "8                       0                    1           1   \n",
              "9                       0                    1           1   \n",
              "\n",
              "   Mano_Fourth & Above  Mano_Second  Mano_Third  \n",
              "0                    0            0           0  \n",
              "1                    0            0           0  \n",
              "2                    0            0           0  \n",
              "3                    0            0           0  \n",
              "4                    0            0           0  \n",
              "5                    0            1           0  \n",
              "6                    0            0           0  \n",
              "7                    0            0           0  \n",
              "8                    0            0           0  \n",
              "9                    0            0           0  \n",
              "\n",
              "[10 rows x 58 columns]"
            ],
            "text/html": "<div>\n<style scoped>\n    .dataframe tbody tr th:only-of-type {\n        vertical-align: middle;\n    }\n\n    .dataframe tbody tr th {\n        vertical-align: top;\n    }\n\n    .dataframe thead th {\n        text-align: right;\n    }\n</style>\n<table border=\"1\" class=\"dataframe\">\n  <thead>\n    <tr style=\"text-align: right;\">\n      <th></th>\n      <th>Año</th>\n      <th>Kilometros</th>\n      <th>Consumo</th>\n      <th>Motor_CC</th>\n      <th>Potencia</th>\n      <th>Asientos</th>\n      <th>Descuento</th>\n      <th>Nombre_Ambassador</th>\n      <th>Nombre_Audi</th>\n      <th>Nombre_BMW</th>\n      <th>...</th>\n      <th>Ciudad_L</th>\n      <th>Combustible_Diesel</th>\n      <th>Combustible_Other</th>\n      <th>Combustible_Petrol</th>\n      <th>Tipo_marchas_Automatic</th>\n      <th>Tipo_marchas_Manual</th>\n      <th>Mano_First</th>\n      <th>Mano_Fourth &amp; Above</th>\n      <th>Mano_Second</th>\n      <th>Mano_Third</th>\n    </tr>\n  </thead>\n  <tbody>\n    <tr>\n      <th>0</th>\n      <td>2012.0</td>\n      <td>83000.0</td>\n      <td>23.40</td>\n      <td>1248.0</td>\n      <td>74.00</td>\n      <td>5.0</td>\n      <td>NaN</td>\n      <td>0</td>\n      <td>0</td>\n      <td>0</td>\n      <td>...</td>\n      <td>0</td>\n      <td>1</td>\n      <td>0</td>\n      <td>0</td>\n      <td>0</td>\n      <td>1</td>\n      <td>1</td>\n      <td>0</td>\n      <td>0</td>\n      <td>0</td>\n    </tr>\n    <tr>\n      <th>1</th>\n      <td>2016.0</td>\n      <td>4800.0</td>\n      <td>20.51</td>\n      <td>998.0</td>\n      <td>67.04</td>\n      <td>5.0</td>\n      <td>NaN</td>\n      <td>0</td>\n      <td>0</td>\n      <td>0</td>\n      <td>...</td>\n      <td>0</td>\n      <td>0</td>\n      <td>0</td>\n      <td>1</td>\n      <td>0</td>\n      <td>1</td>\n      <td>1</td>\n      <td>0</td>\n      <td>0</td>\n      <td>0</td>\n    </tr>\n    <tr>\n      <th>2</th>\n      <td>2016.0</td>\n      <td>26000.0</td>\n      <td>25.32</td>\n      <td>1198.0</td>\n      <td>77.00</td>\n      <td>6.0</td>\n      <td>NaN</td>\n      <td>0</td>\n      <td>0</td>\n      <td>0</td>\n      <td>...</td>\n      <td>0</td>\n      <td>1</td>\n      <td>0</td>\n      <td>0</td>\n      <td>0</td>\n      <td>1</td>\n      <td>1</td>\n      <td>0</td>\n      <td>0</td>\n      <td>0</td>\n    </tr>\n    <tr>\n      <th>3</th>\n      <td>2013.0</td>\n      <td>56127.0</td>\n      <td>18.50</td>\n      <td>1197.0</td>\n      <td>80.00</td>\n      <td>5.0</td>\n      <td>NaN</td>\n      <td>0</td>\n      <td>0</td>\n      <td>0</td>\n      <td>...</td>\n      <td>0</td>\n      <td>0</td>\n      <td>0</td>\n      <td>1</td>\n      <td>0</td>\n      <td>1</td>\n      <td>1</td>\n      <td>0</td>\n      <td>0</td>\n      <td>0</td>\n    </tr>\n    <tr>\n      <th>4</th>\n      <td>2017.0</td>\n      <td>41981.0</td>\n      <td>18.70</td>\n      <td>1199.0</td>\n      <td>88.70</td>\n      <td>5.0</td>\n      <td>NaN</td>\n      <td>0</td>\n      <td>0</td>\n      <td>0</td>\n      <td>...</td>\n      <td>0</td>\n      <td>0</td>\n      <td>0</td>\n      <td>1</td>\n      <td>0</td>\n      <td>1</td>\n      <td>1</td>\n      <td>0</td>\n      <td>0</td>\n      <td>0</td>\n    </tr>\n    <tr>\n      <th>5</th>\n      <td>2009.0</td>\n      <td>140000.0</td>\n      <td>17.80</td>\n      <td>1248.0</td>\n      <td>75.00</td>\n      <td>5.0</td>\n      <td>NaN</td>\n      <td>0</td>\n      <td>0</td>\n      <td>0</td>\n      <td>...</td>\n      <td>0</td>\n      <td>1</td>\n      <td>0</td>\n      <td>0</td>\n      <td>0</td>\n      <td>1</td>\n      <td>0</td>\n      <td>0</td>\n      <td>1</td>\n      <td>0</td>\n    </tr>\n    <tr>\n      <th>6</th>\n      <td>2014.0</td>\n      <td>75074.0</td>\n      <td>23.40</td>\n      <td>1248.0</td>\n      <td>74.00</td>\n      <td>5.0</td>\n      <td>NaN</td>\n      <td>0</td>\n      <td>0</td>\n      <td>0</td>\n      <td>...</td>\n      <td>0</td>\n      <td>1</td>\n      <td>0</td>\n      <td>0</td>\n      <td>0</td>\n      <td>1</td>\n      <td>1</td>\n      <td>0</td>\n      <td>0</td>\n      <td>0</td>\n    </tr>\n    <tr>\n      <th>7</th>\n      <td>2011.0</td>\n      <td>60000.0</td>\n      <td>16.80</td>\n      <td>1497.0</td>\n      <td>118.00</td>\n      <td>5.0</td>\n      <td>NaN</td>\n      <td>0</td>\n      <td>0</td>\n      <td>0</td>\n      <td>...</td>\n      <td>0</td>\n      <td>0</td>\n      <td>0</td>\n      <td>1</td>\n      <td>1</td>\n      <td>0</td>\n      <td>1</td>\n      <td>0</td>\n      <td>0</td>\n      <td>0</td>\n    </tr>\n    <tr>\n      <th>8</th>\n      <td>2017.0</td>\n      <td>26185.0</td>\n      <td>18.60</td>\n      <td>1197.0</td>\n      <td>81.83</td>\n      <td>5.0</td>\n      <td>NaN</td>\n      <td>0</td>\n      <td>0</td>\n      <td>0</td>\n      <td>...</td>\n      <td>0</td>\n      <td>0</td>\n      <td>0</td>\n      <td>1</td>\n      <td>0</td>\n      <td>1</td>\n      <td>1</td>\n      <td>0</td>\n      <td>0</td>\n      <td>0</td>\n    </tr>\n    <tr>\n      <th>9</th>\n      <td>2017.0</td>\n      <td>49224.0</td>\n      <td>25.20</td>\n      <td>1248.0</td>\n      <td>74.00</td>\n      <td>5.0</td>\n      <td>NaN</td>\n      <td>0</td>\n      <td>0</td>\n      <td>0</td>\n      <td>...</td>\n      <td>1</td>\n      <td>1</td>\n      <td>0</td>\n      <td>0</td>\n      <td>0</td>\n      <td>1</td>\n      <td>1</td>\n      <td>0</td>\n      <td>0</td>\n      <td>0</td>\n    </tr>\n  </tbody>\n</table>\n<p>10 rows × 58 columns</p>\n</div>"
          },
          "metadata": {},
          "execution_count": 10
        }
      ],
      "source": [
        "X.head(10)"
      ]
    },
    {
      "source": [
        "### Missing data"
      ],
      "cell_type": "markdown",
      "metadata": {}
    },
    {
      "cell_type": "code",
      "execution_count": 11,
      "metadata": {},
      "outputs": [
        {
          "output_type": "execute_result",
          "data": {
            "text/plain": [
              "Descuento             5164\n",
              "Potencia               175\n",
              "Asientos               106\n",
              "Motor_CC               101\n",
              "Consumo                 73\n",
              "Año                     72\n",
              "Kilometros              72\n",
              "Nombre_Lamborghini       0\n",
              "Nombre_Isuzu             0\n",
              "Nombre_Jaguar            0\n",
              "dtype: int64"
            ]
          },
          "metadata": {},
          "execution_count": 11
        }
      ],
      "source": [
        "X.isnull().sum().sort_values(ascending=False).head(10)"
      ]
    },
    {
      "cell_type": "code",
      "execution_count": 12,
      "metadata": {},
      "outputs": [],
      "source": [
        "X['Descuento'] = X['Descuento'].fillna(0)\n",
        "\n",
        "tofill_list = ['Año', 'Kilometros', 'Consumo', 'Motor_CC', 'Asientos', 'Potencia']\n",
        "\n",
        "for col_name in tofill_list:\n",
        "    X[col_name].fillna(X[col_name].median(), inplace=True)"
      ]
    },
    {
      "cell_type": "code",
      "execution_count": 13,
      "metadata": {},
      "outputs": [
        {
          "output_type": "execute_result",
          "data": {
            "text/plain": [
              "Mano_Third              0\n",
              "Nombre_Force            0\n",
              "Nombre_Mercedes-Benz    0\n",
              "Nombre_Maruti           0\n",
              "Nombre_Mahindra         0\n",
              "dtype: int64"
            ]
          },
          "metadata": {},
          "execution_count": 13
        }
      ],
      "source": [
        "X.isnull().sum().sort_values(ascending=False).head()"
      ]
    },
    {
      "source": [
        "### Outliers"
      ],
      "cell_type": "markdown",
      "metadata": {}
    },
    {
      "cell_type": "code",
      "execution_count": 14,
      "metadata": {},
      "outputs": [],
      "source": [
        "from sklearn.preprocessing import scale\n",
        "\n",
        "def find_outliers(x):\n",
        "    q1 = np.percentile(x, 25)\n",
        "    q3 = np.percentile(x, 75)\n",
        "    iqr = q3-q1\n",
        "    floor = q1 - 1.75*iqr\n",
        "    ceiling = q3 + 1.75*iqr\n",
        "    outlier_indices = list(x.index[(x < floor)|(x > ceiling)])\n",
        "    outlier_values = list(x[outlier_indices])\n",
        "\n",
        "    return outlier_indices, outlier_values"
      ]
    },
    {
      "cell_type": "code",
      "execution_count": 15,
      "metadata": {},
      "outputs": [
        {
          "output_type": "execute_result",
          "data": {
            "text/plain": [
              "array([ 0.  ,  0.  ,  0.  ,  0.  ,  0.  ,  0.  ,  0.  ,  0.  ,  0.  ,\n",
              "        0.  ,  0.  ,  0.  ,  0.  ,  0.  ,  0.  ,  0.  ,  0.  ,  0.  ,\n",
              "        0.  ,  0.  ,  0.  ,  0.  ,  0.  ,  0.  ,  0.  ,  0.  ,  0.  ,\n",
              "        0.  ,  0.  ,  0.  ,  0.  ,  0.  ,  0.  ,  0.  ,  0.  ,  0.  ,\n",
              "        0.  ,  0.  ,  0.  ,  0.  ,  0.  ,  0.  ,  0.  ,  0.  ,  0.  ,\n",
              "        0.  ,  0.  ,  0.  ,  0.  ,  0.  ,  0.  ,  0.  ,  0.  , 31.79,\n",
              "       31.79, 32.26, 32.26, 33.44, 33.44, 33.44, 33.44, 33.54, 33.54,\n",
              "       33.54, 33.54, 33.54])"
            ]
          },
          "metadata": {},
          "execution_count": 15
        }
      ],
      "source": [
        "out_index, out_values = find_outliers(X['Consumo'])\n",
        "np.sort(out_values)"
      ]
    },
    {
      "cell_type": "code",
      "execution_count": 16,
      "metadata": {},
      "outputs": [],
      "source": [
        "X['Consumo'].replace(0, X['Consumo'].median(), inplace=True)\n",
        "\n",
        "X['Kilometros'].values[X['Kilometros'] > 500000] = X['Kilometros'].median()"
      ]
    },
    {
      "source": [
        "### Feature interaction"
      ],
      "cell_type": "markdown",
      "metadata": {}
    },
    {
      "cell_type": "code",
      "execution_count": 17,
      "metadata": {},
      "outputs": [],
      "source": [
        "from itertools import combinations\n",
        "from sklearn.preprocessing import PolynomialFeatures\n",
        "\n",
        "def add_interactions(df):\n",
        "    # Nombres de los atributos\n",
        "    combos = list(combinations(list(df.columns), 2))\n",
        "    col_names = list(df.columns) + ['_'.join(x) for x in combos]\n",
        "\n",
        "    # Encontrar iteracciones\n",
        "    poly = PolynomialFeatures(interaction_only=True, include_bias=False)\n",
        "    df = poly.fit_transform(df)\n",
        "    \n",
        "    df = pd.DataFrame(df)\n",
        "    df.columns = col_names\n",
        "\n",
        "    # Eliminar las que dan 0\n",
        "    noint_indices = [i for i, x in enumerate(list((df == 0).all())) if x]\n",
        "    df = df.drop(df.columns[noint_indices], axis=1)\n",
        "\n",
        "    return df"
      ]
    },
    {
      "cell_type": "code",
      "execution_count": 18,
      "metadata": {},
      "outputs": [
        {
          "output_type": "execute_result",
          "data": {
            "text/plain": [
              "      Año  Kilometros  Consumo  Motor_CC  Potencia  Asientos  Descuento  \\\n",
              "0  2012.0     83000.0    23.40    1248.0     74.00       5.0        0.0   \n",
              "1  2016.0      4800.0    20.51     998.0     67.04       5.0        0.0   \n",
              "2  2016.0     26000.0    25.32    1198.0     77.00       6.0        0.0   \n",
              "3  2013.0     56127.0    18.50    1197.0     80.00       5.0        0.0   \n",
              "4  2017.0     41981.0    18.70    1199.0     88.70       5.0        0.0   \n",
              "5  2009.0    140000.0    17.80    1248.0     75.00       5.0        0.0   \n",
              "6  2014.0     75074.0    23.40    1248.0     74.00       5.0        0.0   \n",
              "7  2011.0     60000.0    16.80    1497.0    118.00       5.0        0.0   \n",
              "8  2017.0     26185.0    18.60    1197.0     81.83       5.0        0.0   \n",
              "9  2017.0     49224.0    25.20    1248.0     74.00       5.0        0.0   \n",
              "\n",
              "   Nombre_Ambassador  Nombre_Audi  Nombre_BMW  ...  \\\n",
              "0                0.0          0.0         0.0  ...   \n",
              "1                0.0          0.0         0.0  ...   \n",
              "2                0.0          0.0         0.0  ...   \n",
              "3                0.0          0.0         0.0  ...   \n",
              "4                0.0          0.0         0.0  ...   \n",
              "5                0.0          0.0         0.0  ...   \n",
              "6                0.0          0.0         0.0  ...   \n",
              "7                0.0          0.0         0.0  ...   \n",
              "8                0.0          0.0         0.0  ...   \n",
              "9                0.0          0.0         0.0  ...   \n",
              "\n",
              "   Combustible_Petrol_Mano_Second  Combustible_Petrol_Mano_Third  \\\n",
              "0                             0.0                            0.0   \n",
              "1                             0.0                            0.0   \n",
              "2                             0.0                            0.0   \n",
              "3                             0.0                            0.0   \n",
              "4                             0.0                            0.0   \n",
              "5                             0.0                            0.0   \n",
              "6                             0.0                            0.0   \n",
              "7                             0.0                            0.0   \n",
              "8                             0.0                            0.0   \n",
              "9                             0.0                            0.0   \n",
              "\n",
              "   Tipo_marchas_Automatic_Mano_First  \\\n",
              "0                                0.0   \n",
              "1                                0.0   \n",
              "2                                0.0   \n",
              "3                                0.0   \n",
              "4                                0.0   \n",
              "5                                0.0   \n",
              "6                                0.0   \n",
              "7                                1.0   \n",
              "8                                0.0   \n",
              "9                                0.0   \n",
              "\n",
              "   Tipo_marchas_Automatic_Mano_Fourth & Above  \\\n",
              "0                                         0.0   \n",
              "1                                         0.0   \n",
              "2                                         0.0   \n",
              "3                                         0.0   \n",
              "4                                         0.0   \n",
              "5                                         0.0   \n",
              "6                                         0.0   \n",
              "7                                         0.0   \n",
              "8                                         0.0   \n",
              "9                                         0.0   \n",
              "\n",
              "   Tipo_marchas_Automatic_Mano_Second  Tipo_marchas_Automatic_Mano_Third  \\\n",
              "0                                 0.0                                0.0   \n",
              "1                                 0.0                                0.0   \n",
              "2                                 0.0                                0.0   \n",
              "3                                 0.0                                0.0   \n",
              "4                                 0.0                                0.0   \n",
              "5                                 0.0                                0.0   \n",
              "6                                 0.0                                0.0   \n",
              "7                                 0.0                                0.0   \n",
              "8                                 0.0                                0.0   \n",
              "9                                 0.0                                0.0   \n",
              "\n",
              "   Tipo_marchas_Manual_Mano_First  Tipo_marchas_Manual_Mano_Fourth & Above  \\\n",
              "0                             1.0                                      0.0   \n",
              "1                             1.0                                      0.0   \n",
              "2                             1.0                                      0.0   \n",
              "3                             1.0                                      0.0   \n",
              "4                             1.0                                      0.0   \n",
              "5                             0.0                                      0.0   \n",
              "6                             1.0                                      0.0   \n",
              "7                             0.0                                      0.0   \n",
              "8                             1.0                                      0.0   \n",
              "9                             1.0                                      0.0   \n",
              "\n",
              "   Tipo_marchas_Manual_Mano_Second  Tipo_marchas_Manual_Mano_Third  \n",
              "0                              0.0                             0.0  \n",
              "1                              0.0                             0.0  \n",
              "2                              0.0                             0.0  \n",
              "3                              0.0                             0.0  \n",
              "4                              0.0                             0.0  \n",
              "5                              1.0                             0.0  \n",
              "6                              0.0                             0.0  \n",
              "7                              0.0                             0.0  \n",
              "8                              0.0                             0.0  \n",
              "9                              0.0                             0.0  \n",
              "\n",
              "[10 rows x 970 columns]"
            ],
            "text/html": "<div>\n<style scoped>\n    .dataframe tbody tr th:only-of-type {\n        vertical-align: middle;\n    }\n\n    .dataframe tbody tr th {\n        vertical-align: top;\n    }\n\n    .dataframe thead th {\n        text-align: right;\n    }\n</style>\n<table border=\"1\" class=\"dataframe\">\n  <thead>\n    <tr style=\"text-align: right;\">\n      <th></th>\n      <th>Año</th>\n      <th>Kilometros</th>\n      <th>Consumo</th>\n      <th>Motor_CC</th>\n      <th>Potencia</th>\n      <th>Asientos</th>\n      <th>Descuento</th>\n      <th>Nombre_Ambassador</th>\n      <th>Nombre_Audi</th>\n      <th>Nombre_BMW</th>\n      <th>...</th>\n      <th>Combustible_Petrol_Mano_Second</th>\n      <th>Combustible_Petrol_Mano_Third</th>\n      <th>Tipo_marchas_Automatic_Mano_First</th>\n      <th>Tipo_marchas_Automatic_Mano_Fourth &amp; Above</th>\n      <th>Tipo_marchas_Automatic_Mano_Second</th>\n      <th>Tipo_marchas_Automatic_Mano_Third</th>\n      <th>Tipo_marchas_Manual_Mano_First</th>\n      <th>Tipo_marchas_Manual_Mano_Fourth &amp; Above</th>\n      <th>Tipo_marchas_Manual_Mano_Second</th>\n      <th>Tipo_marchas_Manual_Mano_Third</th>\n    </tr>\n  </thead>\n  <tbody>\n    <tr>\n      <th>0</th>\n      <td>2012.0</td>\n      <td>83000.0</td>\n      <td>23.40</td>\n      <td>1248.0</td>\n      <td>74.00</td>\n      <td>5.0</td>\n      <td>0.0</td>\n      <td>0.0</td>\n      <td>0.0</td>\n      <td>0.0</td>\n      <td>...</td>\n      <td>0.0</td>\n      <td>0.0</td>\n      <td>0.0</td>\n      <td>0.0</td>\n      <td>0.0</td>\n      <td>0.0</td>\n      <td>1.0</td>\n      <td>0.0</td>\n      <td>0.0</td>\n      <td>0.0</td>\n    </tr>\n    <tr>\n      <th>1</th>\n      <td>2016.0</td>\n      <td>4800.0</td>\n      <td>20.51</td>\n      <td>998.0</td>\n      <td>67.04</td>\n      <td>5.0</td>\n      <td>0.0</td>\n      <td>0.0</td>\n      <td>0.0</td>\n      <td>0.0</td>\n      <td>...</td>\n      <td>0.0</td>\n      <td>0.0</td>\n      <td>0.0</td>\n      <td>0.0</td>\n      <td>0.0</td>\n      <td>0.0</td>\n      <td>1.0</td>\n      <td>0.0</td>\n      <td>0.0</td>\n      <td>0.0</td>\n    </tr>\n    <tr>\n      <th>2</th>\n      <td>2016.0</td>\n      <td>26000.0</td>\n      <td>25.32</td>\n      <td>1198.0</td>\n      <td>77.00</td>\n      <td>6.0</td>\n      <td>0.0</td>\n      <td>0.0</td>\n      <td>0.0</td>\n      <td>0.0</td>\n      <td>...</td>\n      <td>0.0</td>\n      <td>0.0</td>\n      <td>0.0</td>\n      <td>0.0</td>\n      <td>0.0</td>\n      <td>0.0</td>\n      <td>1.0</td>\n      <td>0.0</td>\n      <td>0.0</td>\n      <td>0.0</td>\n    </tr>\n    <tr>\n      <th>3</th>\n      <td>2013.0</td>\n      <td>56127.0</td>\n      <td>18.50</td>\n      <td>1197.0</td>\n      <td>80.00</td>\n      <td>5.0</td>\n      <td>0.0</td>\n      <td>0.0</td>\n      <td>0.0</td>\n      <td>0.0</td>\n      <td>...</td>\n      <td>0.0</td>\n      <td>0.0</td>\n      <td>0.0</td>\n      <td>0.0</td>\n      <td>0.0</td>\n      <td>0.0</td>\n      <td>1.0</td>\n      <td>0.0</td>\n      <td>0.0</td>\n      <td>0.0</td>\n    </tr>\n    <tr>\n      <th>4</th>\n      <td>2017.0</td>\n      <td>41981.0</td>\n      <td>18.70</td>\n      <td>1199.0</td>\n      <td>88.70</td>\n      <td>5.0</td>\n      <td>0.0</td>\n      <td>0.0</td>\n      <td>0.0</td>\n      <td>0.0</td>\n      <td>...</td>\n      <td>0.0</td>\n      <td>0.0</td>\n      <td>0.0</td>\n      <td>0.0</td>\n      <td>0.0</td>\n      <td>0.0</td>\n      <td>1.0</td>\n      <td>0.0</td>\n      <td>0.0</td>\n      <td>0.0</td>\n    </tr>\n    <tr>\n      <th>5</th>\n      <td>2009.0</td>\n      <td>140000.0</td>\n      <td>17.80</td>\n      <td>1248.0</td>\n      <td>75.00</td>\n      <td>5.0</td>\n      <td>0.0</td>\n      <td>0.0</td>\n      <td>0.0</td>\n      <td>0.0</td>\n      <td>...</td>\n      <td>0.0</td>\n      <td>0.0</td>\n      <td>0.0</td>\n      <td>0.0</td>\n      <td>0.0</td>\n      <td>0.0</td>\n      <td>0.0</td>\n      <td>0.0</td>\n      <td>1.0</td>\n      <td>0.0</td>\n    </tr>\n    <tr>\n      <th>6</th>\n      <td>2014.0</td>\n      <td>75074.0</td>\n      <td>23.40</td>\n      <td>1248.0</td>\n      <td>74.00</td>\n      <td>5.0</td>\n      <td>0.0</td>\n      <td>0.0</td>\n      <td>0.0</td>\n      <td>0.0</td>\n      <td>...</td>\n      <td>0.0</td>\n      <td>0.0</td>\n      <td>0.0</td>\n      <td>0.0</td>\n      <td>0.0</td>\n      <td>0.0</td>\n      <td>1.0</td>\n      <td>0.0</td>\n      <td>0.0</td>\n      <td>0.0</td>\n    </tr>\n    <tr>\n      <th>7</th>\n      <td>2011.0</td>\n      <td>60000.0</td>\n      <td>16.80</td>\n      <td>1497.0</td>\n      <td>118.00</td>\n      <td>5.0</td>\n      <td>0.0</td>\n      <td>0.0</td>\n      <td>0.0</td>\n      <td>0.0</td>\n      <td>...</td>\n      <td>0.0</td>\n      <td>0.0</td>\n      <td>1.0</td>\n      <td>0.0</td>\n      <td>0.0</td>\n      <td>0.0</td>\n      <td>0.0</td>\n      <td>0.0</td>\n      <td>0.0</td>\n      <td>0.0</td>\n    </tr>\n    <tr>\n      <th>8</th>\n      <td>2017.0</td>\n      <td>26185.0</td>\n      <td>18.60</td>\n      <td>1197.0</td>\n      <td>81.83</td>\n      <td>5.0</td>\n      <td>0.0</td>\n      <td>0.0</td>\n      <td>0.0</td>\n      <td>0.0</td>\n      <td>...</td>\n      <td>0.0</td>\n      <td>0.0</td>\n      <td>0.0</td>\n      <td>0.0</td>\n      <td>0.0</td>\n      <td>0.0</td>\n      <td>1.0</td>\n      <td>0.0</td>\n      <td>0.0</td>\n      <td>0.0</td>\n    </tr>\n    <tr>\n      <th>9</th>\n      <td>2017.0</td>\n      <td>49224.0</td>\n      <td>25.20</td>\n      <td>1248.0</td>\n      <td>74.00</td>\n      <td>5.0</td>\n      <td>0.0</td>\n      <td>0.0</td>\n      <td>0.0</td>\n      <td>0.0</td>\n      <td>...</td>\n      <td>0.0</td>\n      <td>0.0</td>\n      <td>0.0</td>\n      <td>0.0</td>\n      <td>0.0</td>\n      <td>0.0</td>\n      <td>1.0</td>\n      <td>0.0</td>\n      <td>0.0</td>\n      <td>0.0</td>\n    </tr>\n  </tbody>\n</table>\n<p>10 rows × 970 columns</p>\n</div>"
          },
          "metadata": {},
          "execution_count": 18
        }
      ],
      "source": [
        "X = add_interactions(X)\n",
        "X.head(10)"
      ]
    },
    {
      "source": [
        "### Dimension reduction PCA"
      ],
      "cell_type": "markdown",
      "metadata": {}
    },
    {
      "cell_type": "code",
      "execution_count": 19,
      "metadata": {},
      "outputs": [
        {
          "output_type": "execute_result",
          "data": {
            "text/plain": [
              "              0             1              2             3             4  \\\n",
              "0  3.958513e+07  3.426526e+07  576094.201960  2.255920e+05 -40039.788719   \n",
              "1 -1.385106e+08 -1.890526e+07  986134.413957 -1.107737e+06   9615.829650   \n",
              "2 -9.048288e+07 -4.156017e+06  717478.026755 -4.818150e+05 -24828.282766   \n",
              "3 -2.340974e+07  1.761944e+07  207607.907665 -1.651528e+05 -66835.340171   \n",
              "4 -5.474592e+07  7.428036e+06   50889.039124 -3.513602e+05 -65408.647908   \n",
              "\n",
              "               5             6             7             8             9  \n",
              "0  295810.544726   8590.538751  -4255.864905 -20493.660897 -11898.542860  \n",
              "1    5810.286523  44855.481051   4844.452911   5898.859918  -8790.380052  \n",
              "2  133831.748601   3729.125884 -29428.703786   -210.180692  -9289.269019  \n",
              "3  -94267.265397  17319.773191   4603.186480 -22059.698595  24767.385260  \n",
              "4  -62744.332991  17111.713063    805.496390 -14140.687603  22250.313919  "
            ],
            "text/html": "<div>\n<style scoped>\n    .dataframe tbody tr th:only-of-type {\n        vertical-align: middle;\n    }\n\n    .dataframe tbody tr th {\n        vertical-align: top;\n    }\n\n    .dataframe thead th {\n        text-align: right;\n    }\n</style>\n<table border=\"1\" class=\"dataframe\">\n  <thead>\n    <tr style=\"text-align: right;\">\n      <th></th>\n      <th>0</th>\n      <th>1</th>\n      <th>2</th>\n      <th>3</th>\n      <th>4</th>\n      <th>5</th>\n      <th>6</th>\n      <th>7</th>\n      <th>8</th>\n      <th>9</th>\n    </tr>\n  </thead>\n  <tbody>\n    <tr>\n      <th>0</th>\n      <td>3.958513e+07</td>\n      <td>3.426526e+07</td>\n      <td>576094.201960</td>\n      <td>2.255920e+05</td>\n      <td>-40039.788719</td>\n      <td>295810.544726</td>\n      <td>8590.538751</td>\n      <td>-4255.864905</td>\n      <td>-20493.660897</td>\n      <td>-11898.542860</td>\n    </tr>\n    <tr>\n      <th>1</th>\n      <td>-1.385106e+08</td>\n      <td>-1.890526e+07</td>\n      <td>986134.413957</td>\n      <td>-1.107737e+06</td>\n      <td>9615.829650</td>\n      <td>5810.286523</td>\n      <td>44855.481051</td>\n      <td>4844.452911</td>\n      <td>5898.859918</td>\n      <td>-8790.380052</td>\n    </tr>\n    <tr>\n      <th>2</th>\n      <td>-9.048288e+07</td>\n      <td>-4.156017e+06</td>\n      <td>717478.026755</td>\n      <td>-4.818150e+05</td>\n      <td>-24828.282766</td>\n      <td>133831.748601</td>\n      <td>3729.125884</td>\n      <td>-29428.703786</td>\n      <td>-210.180692</td>\n      <td>-9289.269019</td>\n    </tr>\n    <tr>\n      <th>3</th>\n      <td>-2.340974e+07</td>\n      <td>1.761944e+07</td>\n      <td>207607.907665</td>\n      <td>-1.651528e+05</td>\n      <td>-66835.340171</td>\n      <td>-94267.265397</td>\n      <td>17319.773191</td>\n      <td>4603.186480</td>\n      <td>-22059.698595</td>\n      <td>24767.385260</td>\n    </tr>\n    <tr>\n      <th>4</th>\n      <td>-5.474592e+07</td>\n      <td>7.428036e+06</td>\n      <td>50889.039124</td>\n      <td>-3.513602e+05</td>\n      <td>-65408.647908</td>\n      <td>-62744.332991</td>\n      <td>17111.713063</td>\n      <td>805.496390</td>\n      <td>-14140.687603</td>\n      <td>22250.313919</td>\n    </tr>\n  </tbody>\n</table>\n</div>"
          },
          "metadata": {},
          "execution_count": 19
        }
      ],
      "source": [
        "from sklearn.decomposition import PCA\n",
        "\n",
        "pca = PCA(n_components=10)\n",
        "X_pca = pd.DataFrame(pca.fit_transform(X))\n",
        "\n",
        "X_pca.head()"
      ]
    },
    {
      "source": [
        "## Train-test split and feature selection"
      ],
      "cell_type": "markdown",
      "metadata": {}
    },
    {
      "cell_type": "code",
      "execution_count": 20,
      "metadata": {},
      "outputs": [],
      "source": [
        "import sklearn.feature_selection\n",
        "\n",
        "x_train = X[:4819]\n",
        "x_test = X[4819:]\n",
        "\n",
        "select = sklearn.feature_selection.SelectKBest(k=40)\n",
        "selected_features = select.fit(x_train, y_train)\n",
        "indices_selected = selected_features.get_support(indices=True)\n",
        "colnames_selected = [X.columns[i] for i in indices_selected]\n",
        "\n",
        "x_train_selected = x_train[colnames_selected]\n",
        "x_test_selected = x_test[colnames_selected]"
      ]
    },
    {
      "cell_type": "code",
      "execution_count": 21,
      "metadata": {},
      "outputs": [
        {
          "output_type": "execute_result",
          "data": {
            "text/plain": [
              "['Año',\n",
              " 'Motor_CC',\n",
              " 'Potencia',\n",
              " 'Combustible_Diesel',\n",
              " 'Combustible_Petrol',\n",
              " 'Tipo_marchas_Automatic',\n",
              " 'Tipo_marchas_Manual',\n",
              " 'Año_Motor_CC',\n",
              " 'Año_Potencia',\n",
              " 'Año_Combustible_Diesel',\n",
              " 'Año_Combustible_Petrol',\n",
              " 'Año_Tipo_marchas_Automatic',\n",
              " 'Año_Tipo_marchas_Manual',\n",
              " 'Kilometros_Combustible_Petrol',\n",
              " 'Kilometros_Tipo_marchas_Automatic',\n",
              " 'Kilometros_Tipo_marchas_Manual',\n",
              " 'Consumo_Motor_CC',\n",
              " 'Consumo_Potencia',\n",
              " 'Consumo_Combustible_Petrol',\n",
              " 'Consumo_Tipo_marchas_Automatic',\n",
              " 'Consumo_Tipo_marchas_Manual',\n",
              " 'Motor_CC_Potencia',\n",
              " 'Motor_CC_Asientos',\n",
              " 'Motor_CC_Combustible_Diesel',\n",
              " 'Motor_CC_Tipo_marchas_Automatic',\n",
              " 'Motor_CC_Tipo_marchas_Manual',\n",
              " 'Motor_CC_Mano_First',\n",
              " 'Potencia_Asientos',\n",
              " 'Potencia_Combustible_Diesel',\n",
              " 'Potencia_Tipo_marchas_Automatic',\n",
              " 'Potencia_Tipo_marchas_Manual',\n",
              " 'Potencia_Mano_First',\n",
              " 'Asientos_Combustible_Diesel',\n",
              " 'Asientos_Combustible_Petrol',\n",
              " 'Asientos_Tipo_marchas_Automatic',\n",
              " 'Asientos_Tipo_marchas_Manual',\n",
              " 'Combustible_Diesel_Tipo_marchas_Automatic',\n",
              " 'Combustible_Petrol_Tipo_marchas_Manual',\n",
              " 'Tipo_marchas_Automatic_Mano_First',\n",
              " 'Tipo_marchas_Manual_Mano_First']"
            ]
          },
          "metadata": {},
          "execution_count": 21
        }
      ],
      "source": [
        "colnames_selected"
      ]
    },
    {
      "source": [
        "# Pruebas"
      ],
      "cell_type": "markdown",
      "metadata": {}
    },
    {
      "source": [
        "## RandomForest -- StackingClassifier"
      ],
      "cell_type": "markdown",
      "metadata": {}
    },
    {
      "source": [
        "import seaborn as sns\n",
        "from sklearn.model_selection import cross_val_predict, GridSearchCV\n",
        "from sklearn.preprocessing import MinMaxScaler, StandardScaler\n",
        "from sklearn.metrics import accuracy_score, classification_report, confusion_matrix\n",
        "from sklearn.ensemble import RandomForestClassifier, AdaBoostClassifier, StackingClassifier\n",
        "from sklearn.tree import DecisionTreeClassifier\n",
        "from sklearn.svm import LinearSVC, SVC, SVR\n",
        "from sklearn.linear_model import LogisticRegression\n",
        "from sklearn.naive_bayes import GaussianNB\n",
        "\n",
        "rf = RandomForestClassifier()\n",
        "\n",
        "# Creacion del grid de parametros\n",
        "param_grid = {\n",
        "    'criterion': ['gini'],\n",
        "    'max_depth': [None],\n",
        "    'min_samples_leaf': [1, 2, 3, 4, 5],\n",
        "    'min_samples_split': [2, 3, 4, 5, 6],\n",
        "    'n_estimators': [100, 150, 175, 200]\n",
        "}\n",
        "\n",
        "# Entrenamos el modelo con las distintas opciones\n",
        "gs = GridSearchCV(estimator=rf, param_grid=param_grid, cv=5, n_jobs=-1, verbose=1)\n",
        "gs = gs.fit(x_train, y_train)\n",
        "\n",
        "# Imprimimos los mejores resultados\n",
        "print(gs.best_score_)\n",
        "print(gs.best_params_)\n",
        "\n",
        "# Creamos el modelos con los parametros elegidos\n",
        "bp = gs.best_params_\n",
        "RndForestClf = RandomForestClassifier(criterion=bp['criterion'],\n",
        "                                    min_samples_leaf=bp['min_samples_leaf'],\n",
        "                                    min_samples_split=bp['min_samples_split'],\n",
        "                                    max_depth=bp['max_depth'],\n",
        "                                    n_estimators=bp['n_estimators'])\n",
        "\n",
        "estimators = [\n",
        "    ('lr', LogisticRegression()),\n",
        "    ('RndForestClf', RndForestClf),\n",
        "    ('svr', make_pipeline(StandardScaler(), LinearSVC()) ),\n",
        "    ('bayes', GaussianNB())\n",
        "    ]\n",
        "StackingClf = StackingClassifier(estimators=estimators, final_estimator=LogisticRegression())\n",
        "\n",
        "StackingClf.fit(x_train, y_train)\n",
        "\n",
        "# Calculo de las predicciones mediante validacion cruzada (5-folds)\n",
        "y_pred = cross_val_predict(StackingClf, x_train, y_train, cv=5)\n",
        "\n",
        "print(classification_report(y_train, y_pred))\n",
        "print(\"SCORE: \", accuracy_score(y_train, y_pred))\n",
        "\n",
        "# Matriz de confusion de los resultados\n",
        "confusion_matrix = confusion_matrix(y_train, y_pred)\n",
        "\n",
        "\n",
        "sns.heatmap(confusion_matrix, annot = True, fmt='g')"
      ],
      "cell_type": "code",
      "metadata": {
        "colab": {
          "base_uri": "https://localhost:8080/",
          "height": 503
        },
        "id": "kSUnl469lLM3",
        "outputId": "67152980-b1cc-488b-d0c9-41b884c8bdf9"
      },
      "execution_count": 22,
      "outputs": [
        {
          "output_type": "stream",
          "name": "stdout",
          "text": [
            "Fitting 5 folds for each of 100 candidates, totalling 500 fits\n",
            "[Parallel(n_jobs=-1)]: Using backend LokyBackend with 12 concurrent workers.\n",
            "[Parallel(n_jobs=-1)]: Done  26 tasks      | elapsed:   16.9s\n",
            "[Parallel(n_jobs=-1)]: Done 176 tasks      | elapsed:  1.4min\n",
            "[Parallel(n_jobs=-1)]: Done 426 tasks      | elapsed:  3.2min\n",
            "[Parallel(n_jobs=-1)]: Done 500 out of 500 | elapsed:  3.7min finished\n",
            "0.8171809223424379\n",
            "{'criterion': 'gini', 'max_depth': None, 'min_samples_leaf': 1, 'min_samples_split': 5, 'n_estimators': 150}\n",
            "              precision    recall  f1-score   support\n",
            "\n",
            "           1       0.83      0.69      0.75       269\n",
            "           2       0.68      0.60      0.64       602\n",
            "           3       0.83      0.91      0.87      2211\n",
            "           4       0.81      0.75      0.78       978\n",
            "           5       0.92      0.91      0.92       759\n",
            "\n",
            "    accuracy                           0.82      4819\n",
            "   macro avg       0.81      0.77      0.79      4819\n",
            "weighted avg       0.82      0.82      0.82      4819\n",
            "\n",
            "SCORE:  0.824444905582071\n"
          ]
        },
        {
          "output_type": "execute_result",
          "data": {
            "text/plain": [
              "<matplotlib.axes._subplots.AxesSubplot at 0x146270962e8>"
            ]
          },
          "metadata": {},
          "execution_count": 22
        },
        {
          "output_type": "display_data",
          "data": {
            "text/plain": "<Figure size 432x288 with 2 Axes>",
            "image/svg+xml": "<?xml version=\"1.0\" encoding=\"utf-8\" standalone=\"no\"?>\r\n<!DOCTYPE svg PUBLIC \"-//W3C//DTD SVG 1.1//EN\"\r\n  \"http://www.w3.org/Graphics/SVG/1.1/DTD/svg11.dtd\">\r\n<!-- Created with matplotlib (https://matplotlib.org/) -->\r\n<svg height=\"251.991672pt\" version=\"1.1\" viewBox=\"0 0 358.980125 251.991672\" width=\"358.980125pt\" xmlns=\"http://www.w3.org/2000/svg\" xmlns:xlink=\"http://www.w3.org/1999/xlink\">\r\n <defs>\r\n  <style type=\"text/css\">\r\n*{stroke-linecap:butt;stroke-linejoin:round;}\r\n  </style>\r\n </defs>\r\n <g id=\"figure_1\">\r\n  <g id=\"patch_1\">\r\n   <path d=\"M -0 251.991672 \r\nL 358.980125 251.991672 \r\nL 358.980125 0 \r\nL -0 0 \r\nz\r\n\" style=\"fill:none;\"/>\r\n  </g>\r\n  <g id=\"axes_1\">\r\n   <g id=\"patch_2\">\r\n    <path d=\"M 23.878125 228.113547 \r\nL 291.718125 228.113547 \r\nL 291.718125 10.673547 \r\nL 23.878125 10.673547 \r\nz\r\n\" style=\"fill:#ffffff;\"/>\r\n   </g>\r\n   <g id=\"QuadMesh_1\">\r\n    <path clip-path=\"url(#p7cb2ebe74b)\" d=\"M 23.878125 10.673547 \r\nL 77.446125 10.673547 \r\nL 77.446125 54.161547 \r\nL 23.878125 54.161547 \r\nL 23.878125 10.673547 \r\n\" style=\"fill:#221331;\"/>\r\n    <path clip-path=\"url(#p7cb2ebe74b)\" d=\"M 77.446125 10.673547 \r\nL 131.014125 10.673547 \r\nL 131.014125 54.161547 \r\nL 77.446125 54.161547 \r\nL 77.446125 10.673547 \r\n\" style=\"fill:#0e0b22;\"/>\r\n    <path clip-path=\"url(#p7cb2ebe74b)\" d=\"M 131.014125 10.673547 \r\nL 184.582125 10.673547 \r\nL 184.582125 54.161547 \r\nL 131.014125 54.161547 \r\nL 131.014125 10.673547 \r\n\" style=\"fill:#03051a;\"/>\r\n    <path clip-path=\"url(#p7cb2ebe74b)\" d=\"M 184.582125 10.673547 \r\nL 238.150125 10.673547 \r\nL 238.150125 54.161547 \r\nL 184.582125 54.161547 \r\nL 184.582125 10.673547 \r\n\" style=\"fill:#03051a;\"/>\r\n    <path clip-path=\"url(#p7cb2ebe74b)\" d=\"M 238.150125 10.673547 \r\nL 291.718125 10.673547 \r\nL 291.718125 54.161547 \r\nL 238.150125 54.161547 \r\nL 238.150125 10.673547 \r\n\" style=\"fill:#03051a;\"/>\r\n    <path clip-path=\"url(#p7cb2ebe74b)\" d=\"M 23.878125 54.161547 \r\nL 77.446125 54.161547 \r\nL 77.446125 97.649547 \r\nL 23.878125 97.649547 \r\nL 23.878125 54.161547 \r\n\" style=\"fill:#07071d;\"/>\r\n    <path clip-path=\"url(#p7cb2ebe74b)\" d=\"M 77.446125 54.161547 \r\nL 131.014125 54.161547 \r\nL 131.014125 97.649547 \r\nL 77.446125 97.649547 \r\nL 77.446125 54.161547 \r\n\" style=\"fill:#451c47;\"/>\r\n    <path clip-path=\"url(#p7cb2ebe74b)\" d=\"M 131.014125 54.161547 \r\nL 184.582125 54.161547 \r\nL 184.582125 97.649547 \r\nL 131.014125 97.649547 \r\nL 131.014125 54.161547 \r\n\" style=\"fill:#271534;\"/>\r\n    <path clip-path=\"url(#p7cb2ebe74b)\" d=\"M 184.582125 54.161547 \r\nL 238.150125 54.161547 \r\nL 238.150125 97.649547 \r\nL 184.582125 97.649547 \r\nL 184.582125 54.161547 \r\n\" style=\"fill:#03051a;\"/>\r\n    <path clip-path=\"url(#p7cb2ebe74b)\" d=\"M 238.150125 54.161547 \r\nL 291.718125 54.161547 \r\nL 291.718125 97.649547 \r\nL 238.150125 97.649547 \r\nL 238.150125 54.161547 \r\n\" style=\"fill:#03051a;\"/>\r\n    <path clip-path=\"url(#p7cb2ebe74b)\" d=\"M 23.878125 97.649547 \r\nL 77.446125 97.649547 \r\nL 77.446125 141.137547 \r\nL 23.878125 141.137547 \r\nL 23.878125 97.649547 \r\n\" style=\"fill:#03051a;\"/>\r\n    <path clip-path=\"url(#p7cb2ebe74b)\" d=\"M 77.446125 97.649547 \r\nL 131.014125 97.649547 \r\nL 131.014125 141.137547 \r\nL 77.446125 141.137547 \r\nL 77.446125 97.649547 \r\n\" style=\"fill:#110c24;\"/>\r\n    <path clip-path=\"url(#p7cb2ebe74b)\" d=\"M 131.014125 97.649547 \r\nL 184.582125 97.649547 \r\nL 184.582125 141.137547 \r\nL 131.014125 141.137547 \r\nL 131.014125 97.649547 \r\n\" style=\"fill:#faebdd;\"/>\r\n    <path clip-path=\"url(#p7cb2ebe74b)\" d=\"M 184.582125 97.649547 \r\nL 238.150125 97.649547 \r\nL 238.150125 141.137547 \r\nL 184.582125 141.137547 \r\nL 184.582125 97.649547 \r\n\" style=\"fill:#160e27;\"/>\r\n    <path clip-path=\"url(#p7cb2ebe74b)\" d=\"M 238.150125 97.649547 \r\nL 291.718125 97.649547 \r\nL 291.718125 141.137547 \r\nL 238.150125 141.137547 \r\nL 238.150125 97.649547 \r\n\" style=\"fill:#03051a;\"/>\r\n    <path clip-path=\"url(#p7cb2ebe74b)\" d=\"M 23.878125 141.137547 \r\nL 77.446125 141.137547 \r\nL 77.446125 184.625547 \r\nL 23.878125 184.625547 \r\nL 23.878125 141.137547 \r\n\" style=\"fill:#03051a;\"/>\r\n    <path clip-path=\"url(#p7cb2ebe74b)\" d=\"M 77.446125 141.137547 \r\nL 131.014125 141.137547 \r\nL 131.014125 184.625547 \r\nL 77.446125 184.625547 \r\nL 77.446125 141.137547 \r\n\" style=\"fill:#03051a;\"/>\r\n    <path clip-path=\"url(#p7cb2ebe74b)\" d=\"M 131.014125 141.137547 \r\nL 184.582125 141.137547 \r\nL 184.582125 184.625547 \r\nL 131.014125 184.625547 \r\nL 131.014125 141.137547 \r\n\" style=\"fill:#241432;\"/>\r\n    <path clip-path=\"url(#p7cb2ebe74b)\" d=\"M 184.582125 141.137547 \r\nL 238.150125 141.137547 \r\nL 238.150125 184.625547 \r\nL 184.582125 184.625547 \r\nL 184.582125 141.137547 \r\n\" style=\"fill:#921c5b;\"/>\r\n    <path clip-path=\"url(#p7cb2ebe74b)\" d=\"M 238.150125 141.137547 \r\nL 291.718125 141.137547 \r\nL 291.718125 184.625547 \r\nL 238.150125 184.625547 \r\nL 238.150125 141.137547 \r\n\" style=\"fill:#0b0920;\"/>\r\n    <path clip-path=\"url(#p7cb2ebe74b)\" d=\"M 23.878125 184.625547 \r\nL 77.446125 184.625547 \r\nL 77.446125 228.113547 \r\nL 23.878125 228.113547 \r\nL 23.878125 184.625547 \r\n\" style=\"fill:#03051a;\"/>\r\n    <path clip-path=\"url(#p7cb2ebe74b)\" d=\"M 77.446125 184.625547 \r\nL 131.014125 184.625547 \r\nL 131.014125 228.113547 \r\nL 77.446125 228.113547 \r\nL 77.446125 184.625547 \r\n\" style=\"fill:#03051a;\"/>\r\n    <path clip-path=\"url(#p7cb2ebe74b)\" d=\"M 131.014125 184.625547 \r\nL 184.582125 184.625547 \r\nL 184.582125 228.113547 \r\nL 131.014125 228.113547 \r\nL 131.014125 184.625547 \r\n\" style=\"fill:#03051a;\"/>\r\n    <path clip-path=\"url(#p7cb2ebe74b)\" d=\"M 184.582125 184.625547 \r\nL 238.150125 184.625547 \r\nL 238.150125 228.113547 \r\nL 184.582125 228.113547 \r\nL 184.582125 184.625547 \r\n\" style=\"fill:#0b0920;\"/>\r\n    <path clip-path=\"url(#p7cb2ebe74b)\" d=\"M 238.150125 184.625547 \r\nL 291.718125 184.625547 \r\nL 291.718125 228.113547 \r\nL 238.150125 228.113547 \r\nL 238.150125 184.625547 \r\n\" style=\"fill:#891e5b;\"/>\r\n   </g>\r\n   <g id=\"matplotlib.axis_1\">\r\n    <g id=\"xtick_1\">\r\n     <g id=\"line2d_1\">\r\n      <defs>\r\n       <path d=\"M 0 0 \r\nL 0 3.5 \r\n\" id=\"m603654b50b\" style=\"stroke:#000000;stroke-width:0.8;\"/>\r\n      </defs>\r\n      <g>\r\n       <use style=\"stroke:#000000;stroke-width:0.8;\" x=\"50.662125\" xlink:href=\"#m603654b50b\" y=\"228.113547\"/>\r\n      </g>\r\n     </g>\r\n     <g id=\"text_1\">\r\n      <!-- 0 -->\r\n      <defs>\r\n       <path d=\"M 31.78125 66.40625 \r\nQ 24.171875 66.40625 20.328125 58.90625 \r\nQ 16.5 51.421875 16.5 36.375 \r\nQ 16.5 21.390625 20.328125 13.890625 \r\nQ 24.171875 6.390625 31.78125 6.390625 \r\nQ 39.453125 6.390625 43.28125 13.890625 \r\nQ 47.125 21.390625 47.125 36.375 \r\nQ 47.125 51.421875 43.28125 58.90625 \r\nQ 39.453125 66.40625 31.78125 66.40625 \r\nz\r\nM 31.78125 74.21875 \r\nQ 44.046875 74.21875 50.515625 64.515625 \r\nQ 56.984375 54.828125 56.984375 36.375 \r\nQ 56.984375 17.96875 50.515625 8.265625 \r\nQ 44.046875 -1.421875 31.78125 -1.421875 \r\nQ 19.53125 -1.421875 13.0625 8.265625 \r\nQ 6.59375 17.96875 6.59375 36.375 \r\nQ 6.59375 54.828125 13.0625 64.515625 \r\nQ 19.53125 74.21875 31.78125 74.21875 \r\nz\r\n\" id=\"DejaVuSans-48\"/>\r\n      </defs>\r\n      <g transform=\"translate(47.480875 242.711985)scale(0.1 -0.1)\">\r\n       <use xlink:href=\"#DejaVuSans-48\"/>\r\n      </g>\r\n     </g>\r\n    </g>\r\n    <g id=\"xtick_2\">\r\n     <g id=\"line2d_2\">\r\n      <g>\r\n       <use style=\"stroke:#000000;stroke-width:0.8;\" x=\"104.230125\" xlink:href=\"#m603654b50b\" y=\"228.113547\"/>\r\n      </g>\r\n     </g>\r\n     <g id=\"text_2\">\r\n      <!-- 1 -->\r\n      <defs>\r\n       <path d=\"M 12.40625 8.296875 \r\nL 28.515625 8.296875 \r\nL 28.515625 63.921875 \r\nL 10.984375 60.40625 \r\nL 10.984375 69.390625 \r\nL 28.421875 72.90625 \r\nL 38.28125 72.90625 \r\nL 38.28125 8.296875 \r\nL 54.390625 8.296875 \r\nL 54.390625 0 \r\nL 12.40625 0 \r\nz\r\n\" id=\"DejaVuSans-49\"/>\r\n      </defs>\r\n      <g transform=\"translate(101.048875 242.711985)scale(0.1 -0.1)\">\r\n       <use xlink:href=\"#DejaVuSans-49\"/>\r\n      </g>\r\n     </g>\r\n    </g>\r\n    <g id=\"xtick_3\">\r\n     <g id=\"line2d_3\">\r\n      <g>\r\n       <use style=\"stroke:#000000;stroke-width:0.8;\" x=\"157.798125\" xlink:href=\"#m603654b50b\" y=\"228.113547\"/>\r\n      </g>\r\n     </g>\r\n     <g id=\"text_3\">\r\n      <!-- 2 -->\r\n      <defs>\r\n       <path d=\"M 19.1875 8.296875 \r\nL 53.609375 8.296875 \r\nL 53.609375 0 \r\nL 7.328125 0 \r\nL 7.328125 8.296875 \r\nQ 12.9375 14.109375 22.625 23.890625 \r\nQ 32.328125 33.6875 34.8125 36.53125 \r\nQ 39.546875 41.84375 41.421875 45.53125 \r\nQ 43.3125 49.21875 43.3125 52.78125 \r\nQ 43.3125 58.59375 39.234375 62.25 \r\nQ 35.15625 65.921875 28.609375 65.921875 \r\nQ 23.96875 65.921875 18.8125 64.3125 \r\nQ 13.671875 62.703125 7.8125 59.421875 \r\nL 7.8125 69.390625 \r\nQ 13.765625 71.78125 18.9375 73 \r\nQ 24.125 74.21875 28.421875 74.21875 \r\nQ 39.75 74.21875 46.484375 68.546875 \r\nQ 53.21875 62.890625 53.21875 53.421875 \r\nQ 53.21875 48.921875 51.53125 44.890625 \r\nQ 49.859375 40.875 45.40625 35.40625 \r\nQ 44.1875 33.984375 37.640625 27.21875 \r\nQ 31.109375 20.453125 19.1875 8.296875 \r\nz\r\n\" id=\"DejaVuSans-50\"/>\r\n      </defs>\r\n      <g transform=\"translate(154.616875 242.711985)scale(0.1 -0.1)\">\r\n       <use xlink:href=\"#DejaVuSans-50\"/>\r\n      </g>\r\n     </g>\r\n    </g>\r\n    <g id=\"xtick_4\">\r\n     <g id=\"line2d_4\">\r\n      <g>\r\n       <use style=\"stroke:#000000;stroke-width:0.8;\" x=\"211.366125\" xlink:href=\"#m603654b50b\" y=\"228.113547\"/>\r\n      </g>\r\n     </g>\r\n     <g id=\"text_4\">\r\n      <!-- 3 -->\r\n      <defs>\r\n       <path d=\"M 40.578125 39.3125 \r\nQ 47.65625 37.796875 51.625 33 \r\nQ 55.609375 28.21875 55.609375 21.1875 \r\nQ 55.609375 10.40625 48.1875 4.484375 \r\nQ 40.765625 -1.421875 27.09375 -1.421875 \r\nQ 22.515625 -1.421875 17.65625 -0.515625 \r\nQ 12.796875 0.390625 7.625 2.203125 \r\nL 7.625 11.71875 \r\nQ 11.71875 9.328125 16.59375 8.109375 \r\nQ 21.484375 6.890625 26.8125 6.890625 \r\nQ 36.078125 6.890625 40.9375 10.546875 \r\nQ 45.796875 14.203125 45.796875 21.1875 \r\nQ 45.796875 27.640625 41.28125 31.265625 \r\nQ 36.765625 34.90625 28.71875 34.90625 \r\nL 20.21875 34.90625 \r\nL 20.21875 43.015625 \r\nL 29.109375 43.015625 \r\nQ 36.375 43.015625 40.234375 45.921875 \r\nQ 44.09375 48.828125 44.09375 54.296875 \r\nQ 44.09375 59.90625 40.109375 62.90625 \r\nQ 36.140625 65.921875 28.71875 65.921875 \r\nQ 24.65625 65.921875 20.015625 65.03125 \r\nQ 15.375 64.15625 9.8125 62.3125 \r\nL 9.8125 71.09375 \r\nQ 15.4375 72.65625 20.34375 73.4375 \r\nQ 25.25 74.21875 29.59375 74.21875 \r\nQ 40.828125 74.21875 47.359375 69.109375 \r\nQ 53.90625 64.015625 53.90625 55.328125 \r\nQ 53.90625 49.265625 50.4375 45.09375 \r\nQ 46.96875 40.921875 40.578125 39.3125 \r\nz\r\n\" id=\"DejaVuSans-51\"/>\r\n      </defs>\r\n      <g transform=\"translate(208.184875 242.711985)scale(0.1 -0.1)\">\r\n       <use xlink:href=\"#DejaVuSans-51\"/>\r\n      </g>\r\n     </g>\r\n    </g>\r\n    <g id=\"xtick_5\">\r\n     <g id=\"line2d_5\">\r\n      <g>\r\n       <use style=\"stroke:#000000;stroke-width:0.8;\" x=\"264.934125\" xlink:href=\"#m603654b50b\" y=\"228.113547\"/>\r\n      </g>\r\n     </g>\r\n     <g id=\"text_5\">\r\n      <!-- 4 -->\r\n      <defs>\r\n       <path d=\"M 37.796875 64.3125 \r\nL 12.890625 25.390625 \r\nL 37.796875 25.390625 \r\nz\r\nM 35.203125 72.90625 \r\nL 47.609375 72.90625 \r\nL 47.609375 25.390625 \r\nL 58.015625 25.390625 \r\nL 58.015625 17.1875 \r\nL 47.609375 17.1875 \r\nL 47.609375 0 \r\nL 37.796875 0 \r\nL 37.796875 17.1875 \r\nL 4.890625 17.1875 \r\nL 4.890625 26.703125 \r\nz\r\n\" id=\"DejaVuSans-52\"/>\r\n      </defs>\r\n      <g transform=\"translate(261.752875 242.711985)scale(0.1 -0.1)\">\r\n       <use xlink:href=\"#DejaVuSans-52\"/>\r\n      </g>\r\n     </g>\r\n    </g>\r\n   </g>\r\n   <g id=\"matplotlib.axis_2\">\r\n    <g id=\"ytick_1\">\r\n     <g id=\"line2d_6\">\r\n      <defs>\r\n       <path d=\"M 0 0 \r\nL -3.5 0 \r\n\" id=\"m29137af4ef\" style=\"stroke:#000000;stroke-width:0.8;\"/>\r\n      </defs>\r\n      <g>\r\n       <use style=\"stroke:#000000;stroke-width:0.8;\" x=\"23.878125\" xlink:href=\"#m29137af4ef\" y=\"32.417547\"/>\r\n      </g>\r\n     </g>\r\n     <g id=\"text_6\">\r\n      <!-- 0 -->\r\n      <g transform=\"translate(14.798438 34.980829)rotate(-90)scale(0.1 -0.1)\">\r\n       <use xlink:href=\"#DejaVuSans-48\"/>\r\n      </g>\r\n     </g>\r\n    </g>\r\n    <g id=\"ytick_2\">\r\n     <g id=\"line2d_7\">\r\n      <g>\r\n       <use style=\"stroke:#000000;stroke-width:0.8;\" x=\"23.878125\" xlink:href=\"#m29137af4ef\" y=\"75.905547\"/>\r\n      </g>\r\n     </g>\r\n     <g id=\"text_7\">\r\n      <!-- 1 -->\r\n      <g transform=\"translate(14.798438 78.468829)rotate(-90)scale(0.1 -0.1)\">\r\n       <use xlink:href=\"#DejaVuSans-49\"/>\r\n      </g>\r\n     </g>\r\n    </g>\r\n    <g id=\"ytick_3\">\r\n     <g id=\"line2d_8\">\r\n      <g>\r\n       <use style=\"stroke:#000000;stroke-width:0.8;\" x=\"23.878125\" xlink:href=\"#m29137af4ef\" y=\"119.393547\"/>\r\n      </g>\r\n     </g>\r\n     <g id=\"text_8\">\r\n      <!-- 2 -->\r\n      <g transform=\"translate(14.798438 121.956829)rotate(-90)scale(0.1 -0.1)\">\r\n       <use xlink:href=\"#DejaVuSans-50\"/>\r\n      </g>\r\n     </g>\r\n    </g>\r\n    <g id=\"ytick_4\">\r\n     <g id=\"line2d_9\">\r\n      <g>\r\n       <use style=\"stroke:#000000;stroke-width:0.8;\" x=\"23.878125\" xlink:href=\"#m29137af4ef\" y=\"162.881547\"/>\r\n      </g>\r\n     </g>\r\n     <g id=\"text_9\">\r\n      <!-- 3 -->\r\n      <g transform=\"translate(14.798438 165.444829)rotate(-90)scale(0.1 -0.1)\">\r\n       <use xlink:href=\"#DejaVuSans-51\"/>\r\n      </g>\r\n     </g>\r\n    </g>\r\n    <g id=\"ytick_5\">\r\n     <g id=\"line2d_10\">\r\n      <g>\r\n       <use style=\"stroke:#000000;stroke-width:0.8;\" x=\"23.878125\" xlink:href=\"#m29137af4ef\" y=\"206.369547\"/>\r\n      </g>\r\n     </g>\r\n     <g id=\"text_10\">\r\n      <!-- 4 -->\r\n      <g transform=\"translate(14.798438 208.932829)rotate(-90)scale(0.1 -0.1)\">\r\n       <use xlink:href=\"#DejaVuSans-52\"/>\r\n      </g>\r\n     </g>\r\n    </g>\r\n   </g>\r\n   <g id=\"text_11\">\r\n    <!-- 185 -->\r\n    <defs>\r\n     <path d=\"M 31.78125 34.625 \r\nQ 24.75 34.625 20.71875 30.859375 \r\nQ 16.703125 27.09375 16.703125 20.515625 \r\nQ 16.703125 13.921875 20.71875 10.15625 \r\nQ 24.75 6.390625 31.78125 6.390625 \r\nQ 38.8125 6.390625 42.859375 10.171875 \r\nQ 46.921875 13.96875 46.921875 20.515625 \r\nQ 46.921875 27.09375 42.890625 30.859375 \r\nQ 38.875 34.625 31.78125 34.625 \r\nz\r\nM 21.921875 38.8125 \r\nQ 15.578125 40.375 12.03125 44.71875 \r\nQ 8.5 49.078125 8.5 55.328125 \r\nQ 8.5 64.0625 14.71875 69.140625 \r\nQ 20.953125 74.21875 31.78125 74.21875 \r\nQ 42.671875 74.21875 48.875 69.140625 \r\nQ 55.078125 64.0625 55.078125 55.328125 \r\nQ 55.078125 49.078125 51.53125 44.71875 \r\nQ 48 40.375 41.703125 38.8125 \r\nQ 48.828125 37.15625 52.796875 32.3125 \r\nQ 56.78125 27.484375 56.78125 20.515625 \r\nQ 56.78125 9.90625 50.3125 4.234375 \r\nQ 43.84375 -1.421875 31.78125 -1.421875 \r\nQ 19.734375 -1.421875 13.25 4.234375 \r\nQ 6.78125 9.90625 6.78125 20.515625 \r\nQ 6.78125 27.484375 10.78125 32.3125 \r\nQ 14.796875 37.15625 21.921875 38.8125 \r\nz\r\nM 18.3125 54.390625 \r\nQ 18.3125 48.734375 21.84375 45.5625 \r\nQ 25.390625 42.390625 31.78125 42.390625 \r\nQ 38.140625 42.390625 41.71875 45.5625 \r\nQ 45.3125 48.734375 45.3125 54.390625 \r\nQ 45.3125 60.0625 41.71875 63.234375 \r\nQ 38.140625 66.40625 31.78125 66.40625 \r\nQ 25.390625 66.40625 21.84375 63.234375 \r\nQ 18.3125 60.0625 18.3125 54.390625 \r\nz\r\n\" id=\"DejaVuSans-56\"/>\r\n     <path d=\"M 10.796875 72.90625 \r\nL 49.515625 72.90625 \r\nL 49.515625 64.59375 \r\nL 19.828125 64.59375 \r\nL 19.828125 46.734375 \r\nQ 21.96875 47.46875 24.109375 47.828125 \r\nQ 26.265625 48.1875 28.421875 48.1875 \r\nQ 40.625 48.1875 47.75 41.5 \r\nQ 54.890625 34.8125 54.890625 23.390625 \r\nQ 54.890625 11.625 47.5625 5.09375 \r\nQ 40.234375 -1.421875 26.90625 -1.421875 \r\nQ 22.3125 -1.421875 17.546875 -0.640625 \r\nQ 12.796875 0.140625 7.71875 1.703125 \r\nL 7.71875 11.625 \r\nQ 12.109375 9.234375 16.796875 8.0625 \r\nQ 21.484375 6.890625 26.703125 6.890625 \r\nQ 35.15625 6.890625 40.078125 11.328125 \r\nQ 45.015625 15.765625 45.015625 23.390625 \r\nQ 45.015625 31 40.078125 35.4375 \r\nQ 35.15625 39.890625 26.703125 39.890625 \r\nQ 22.75 39.890625 18.8125 39.015625 \r\nQ 14.890625 38.140625 10.796875 36.28125 \r\nz\r\n\" id=\"DejaVuSans-53\"/>\r\n    </defs>\r\n    <g style=\"fill:#ffffff;\" transform=\"translate(41.118375 35.176922)scale(0.1 -0.1)\">\r\n     <use xlink:href=\"#DejaVuSans-49\"/>\r\n     <use x=\"63.623047\" xlink:href=\"#DejaVuSans-56\"/>\r\n     <use x=\"127.246094\" xlink:href=\"#DejaVuSans-53\"/>\r\n    </g>\r\n   </g>\r\n   <g id=\"text_12\">\r\n    <!-- 76 -->\r\n    <defs>\r\n     <path d=\"M 8.203125 72.90625 \r\nL 55.078125 72.90625 \r\nL 55.078125 68.703125 \r\nL 28.609375 0 \r\nL 18.3125 0 \r\nL 43.21875 64.59375 \r\nL 8.203125 64.59375 \r\nz\r\n\" id=\"DejaVuSans-55\"/>\r\n     <path d=\"M 33.015625 40.375 \r\nQ 26.375 40.375 22.484375 35.828125 \r\nQ 18.609375 31.296875 18.609375 23.390625 \r\nQ 18.609375 15.53125 22.484375 10.953125 \r\nQ 26.375 6.390625 33.015625 6.390625 \r\nQ 39.65625 6.390625 43.53125 10.953125 \r\nQ 47.40625 15.53125 47.40625 23.390625 \r\nQ 47.40625 31.296875 43.53125 35.828125 \r\nQ 39.65625 40.375 33.015625 40.375 \r\nz\r\nM 52.59375 71.296875 \r\nL 52.59375 62.3125 \r\nQ 48.875 64.0625 45.09375 64.984375 \r\nQ 41.3125 65.921875 37.59375 65.921875 \r\nQ 27.828125 65.921875 22.671875 59.328125 \r\nQ 17.53125 52.734375 16.796875 39.40625 \r\nQ 19.671875 43.65625 24.015625 45.921875 \r\nQ 28.375 48.1875 33.59375 48.1875 \r\nQ 44.578125 48.1875 50.953125 41.515625 \r\nQ 57.328125 34.859375 57.328125 23.390625 \r\nQ 57.328125 12.15625 50.6875 5.359375 \r\nQ 44.046875 -1.421875 33.015625 -1.421875 \r\nQ 20.359375 -1.421875 13.671875 8.265625 \r\nQ 6.984375 17.96875 6.984375 36.375 \r\nQ 6.984375 53.65625 15.1875 63.9375 \r\nQ 23.390625 74.21875 37.203125 74.21875 \r\nQ 40.921875 74.21875 44.703125 73.484375 \r\nQ 48.484375 72.75 52.59375 71.296875 \r\nz\r\n\" id=\"DejaVuSans-54\"/>\r\n    </defs>\r\n    <g style=\"fill:#ffffff;\" transform=\"translate(97.867625 35.176922)scale(0.1 -0.1)\">\r\n     <use xlink:href=\"#DejaVuSans-55\"/>\r\n     <use x=\"63.623047\" xlink:href=\"#DejaVuSans-54\"/>\r\n    </g>\r\n   </g>\r\n   <g id=\"text_13\">\r\n    <!-- 7 -->\r\n    <g style=\"fill:#ffffff;\" transform=\"translate(154.616875 35.176922)scale(0.1 -0.1)\">\r\n     <use xlink:href=\"#DejaVuSans-55\"/>\r\n    </g>\r\n   </g>\r\n   <g id=\"text_14\">\r\n    <!-- 0 -->\r\n    <g style=\"fill:#ffffff;\" transform=\"translate(208.184875 35.176922)scale(0.1 -0.1)\">\r\n     <use xlink:href=\"#DejaVuSans-48\"/>\r\n    </g>\r\n   </g>\r\n   <g id=\"text_15\">\r\n    <!-- 1 -->\r\n    <g style=\"fill:#ffffff;\" transform=\"translate(261.752875 35.176922)scale(0.1 -0.1)\">\r\n     <use xlink:href=\"#DejaVuSans-49\"/>\r\n    </g>\r\n   </g>\r\n   <g id=\"text_16\">\r\n    <!-- 34 -->\r\n    <g style=\"fill:#ffffff;\" transform=\"translate(44.299625 78.664922)scale(0.1 -0.1)\">\r\n     <use xlink:href=\"#DejaVuSans-51\"/>\r\n     <use x=\"63.623047\" xlink:href=\"#DejaVuSans-52\"/>\r\n    </g>\r\n   </g>\r\n   <g id=\"text_17\">\r\n    <!-- 360 -->\r\n    <g style=\"fill:#ffffff;\" transform=\"translate(94.686375 78.664922)scale(0.1 -0.1)\">\r\n     <use xlink:href=\"#DejaVuSans-51\"/>\r\n     <use x=\"63.623047\" xlink:href=\"#DejaVuSans-54\"/>\r\n     <use x=\"127.246094\" xlink:href=\"#DejaVuSans-48\"/>\r\n    </g>\r\n   </g>\r\n   <g id=\"text_18\">\r\n    <!-- 208 -->\r\n    <g style=\"fill:#ffffff;\" transform=\"translate(148.254375 78.664922)scale(0.1 -0.1)\">\r\n     <use xlink:href=\"#DejaVuSans-50\"/>\r\n     <use x=\"63.623047\" xlink:href=\"#DejaVuSans-48\"/>\r\n     <use x=\"127.246094\" xlink:href=\"#DejaVuSans-56\"/>\r\n    </g>\r\n   </g>\r\n   <g id=\"text_19\">\r\n    <!-- 0 -->\r\n    <g style=\"fill:#ffffff;\" transform=\"translate(208.184875 78.664922)scale(0.1 -0.1)\">\r\n     <use xlink:href=\"#DejaVuSans-48\"/>\r\n    </g>\r\n   </g>\r\n   <g id=\"text_20\">\r\n    <!-- 0 -->\r\n    <g style=\"fill:#ffffff;\" transform=\"translate(261.752875 78.664922)scale(0.1 -0.1)\">\r\n     <use xlink:href=\"#DejaVuSans-48\"/>\r\n    </g>\r\n   </g>\r\n   <g id=\"text_21\">\r\n    <!-- 1 -->\r\n    <g style=\"fill:#ffffff;\" transform=\"translate(47.480875 122.152922)scale(0.1 -0.1)\">\r\n     <use xlink:href=\"#DejaVuSans-49\"/>\r\n    </g>\r\n   </g>\r\n   <g id=\"text_22\">\r\n    <!-- 92 -->\r\n    <defs>\r\n     <path d=\"M 10.984375 1.515625 \r\nL 10.984375 10.5 \r\nQ 14.703125 8.734375 18.5 7.8125 \r\nQ 22.3125 6.890625 25.984375 6.890625 \r\nQ 35.75 6.890625 40.890625 13.453125 \r\nQ 46.046875 20.015625 46.78125 33.40625 \r\nQ 43.953125 29.203125 39.59375 26.953125 \r\nQ 35.25 24.703125 29.984375 24.703125 \r\nQ 19.046875 24.703125 12.671875 31.3125 \r\nQ 6.296875 37.9375 6.296875 49.421875 \r\nQ 6.296875 60.640625 12.9375 67.421875 \r\nQ 19.578125 74.21875 30.609375 74.21875 \r\nQ 43.265625 74.21875 49.921875 64.515625 \r\nQ 56.59375 54.828125 56.59375 36.375 \r\nQ 56.59375 19.140625 48.40625 8.859375 \r\nQ 40.234375 -1.421875 26.421875 -1.421875 \r\nQ 22.703125 -1.421875 18.890625 -0.6875 \r\nQ 15.09375 0.046875 10.984375 1.515625 \r\nz\r\nM 30.609375 32.421875 \r\nQ 37.25 32.421875 41.125 36.953125 \r\nQ 45.015625 41.5 45.015625 49.421875 \r\nQ 45.015625 57.28125 41.125 61.84375 \r\nQ 37.25 66.40625 30.609375 66.40625 \r\nQ 23.96875 66.40625 20.09375 61.84375 \r\nQ 16.21875 57.28125 16.21875 49.421875 \r\nQ 16.21875 41.5 20.09375 36.953125 \r\nQ 23.96875 32.421875 30.609375 32.421875 \r\nz\r\n\" id=\"DejaVuSans-57\"/>\r\n    </defs>\r\n    <g style=\"fill:#ffffff;\" transform=\"translate(97.867625 122.152922)scale(0.1 -0.1)\">\r\n     <use xlink:href=\"#DejaVuSans-57\"/>\r\n     <use x=\"63.623047\" xlink:href=\"#DejaVuSans-50\"/>\r\n    </g>\r\n   </g>\r\n   <g id=\"text_23\">\r\n    <!-- 2003 -->\r\n    <g style=\"fill:#262626;\" transform=\"translate(145.073125 122.152922)scale(0.1 -0.1)\">\r\n     <use xlink:href=\"#DejaVuSans-50\"/>\r\n     <use x=\"63.623047\" xlink:href=\"#DejaVuSans-48\"/>\r\n     <use x=\"127.246094\" xlink:href=\"#DejaVuSans-48\"/>\r\n     <use x=\"190.869141\" xlink:href=\"#DejaVuSans-51\"/>\r\n    </g>\r\n   </g>\r\n   <g id=\"text_24\">\r\n    <!-- 113 -->\r\n    <g style=\"fill:#ffffff;\" transform=\"translate(201.822375 122.152922)scale(0.1 -0.1)\">\r\n     <use xlink:href=\"#DejaVuSans-49\"/>\r\n     <use x=\"63.623047\" xlink:href=\"#DejaVuSans-49\"/>\r\n     <use x=\"127.246094\" xlink:href=\"#DejaVuSans-51\"/>\r\n    </g>\r\n   </g>\r\n   <g id=\"text_25\">\r\n    <!-- 2 -->\r\n    <g style=\"fill:#ffffff;\" transform=\"translate(261.752875 122.152922)scale(0.1 -0.1)\">\r\n     <use xlink:href=\"#DejaVuSans-50\"/>\r\n    </g>\r\n   </g>\r\n   <g id=\"text_26\">\r\n    <!-- 0 -->\r\n    <g style=\"fill:#ffffff;\" transform=\"translate(47.480875 165.640922)scale(0.1 -0.1)\">\r\n     <use xlink:href=\"#DejaVuSans-48\"/>\r\n    </g>\r\n   </g>\r\n   <g id=\"text_27\">\r\n    <!-- 1 -->\r\n    <g style=\"fill:#ffffff;\" transform=\"translate(101.048875 165.640922)scale(0.1 -0.1)\">\r\n     <use xlink:href=\"#DejaVuSans-49\"/>\r\n    </g>\r\n   </g>\r\n   <g id=\"text_28\">\r\n    <!-- 188 -->\r\n    <g style=\"fill:#ffffff;\" transform=\"translate(148.254375 165.640922)scale(0.1 -0.1)\">\r\n     <use xlink:href=\"#DejaVuSans-49\"/>\r\n     <use x=\"63.623047\" xlink:href=\"#DejaVuSans-56\"/>\r\n     <use x=\"127.246094\" xlink:href=\"#DejaVuSans-56\"/>\r\n    </g>\r\n   </g>\r\n   <g id=\"text_29\">\r\n    <!-- 734 -->\r\n    <g style=\"fill:#ffffff;\" transform=\"translate(201.822375 165.640922)scale(0.1 -0.1)\">\r\n     <use xlink:href=\"#DejaVuSans-55\"/>\r\n     <use x=\"63.623047\" xlink:href=\"#DejaVuSans-51\"/>\r\n     <use x=\"127.246094\" xlink:href=\"#DejaVuSans-52\"/>\r\n    </g>\r\n   </g>\r\n   <g id=\"text_30\">\r\n    <!-- 55 -->\r\n    <g style=\"fill:#ffffff;\" transform=\"translate(258.571625 165.640922)scale(0.1 -0.1)\">\r\n     <use xlink:href=\"#DejaVuSans-53\"/>\r\n     <use x=\"63.623047\" xlink:href=\"#DejaVuSans-53\"/>\r\n    </g>\r\n   </g>\r\n   <g id=\"text_31\">\r\n    <!-- 3 -->\r\n    <g style=\"fill:#ffffff;\" transform=\"translate(47.480875 209.128922)scale(0.1 -0.1)\">\r\n     <use xlink:href=\"#DejaVuSans-51\"/>\r\n    </g>\r\n   </g>\r\n   <g id=\"text_32\">\r\n    <!-- 0 -->\r\n    <g style=\"fill:#ffffff;\" transform=\"translate(101.048875 209.128922)scale(0.1 -0.1)\">\r\n     <use xlink:href=\"#DejaVuSans-48\"/>\r\n    </g>\r\n   </g>\r\n   <g id=\"text_33\">\r\n    <!-- 3 -->\r\n    <g style=\"fill:#ffffff;\" transform=\"translate(154.616875 209.128922)scale(0.1 -0.1)\">\r\n     <use xlink:href=\"#DejaVuSans-51\"/>\r\n    </g>\r\n   </g>\r\n   <g id=\"text_34\">\r\n    <!-- 62 -->\r\n    <g style=\"fill:#ffffff;\" transform=\"translate(205.003625 209.128922)scale(0.1 -0.1)\">\r\n     <use xlink:href=\"#DejaVuSans-54\"/>\r\n     <use x=\"63.623047\" xlink:href=\"#DejaVuSans-50\"/>\r\n    </g>\r\n   </g>\r\n   <g id=\"text_35\">\r\n    <!-- 691 -->\r\n    <g style=\"fill:#ffffff;\" transform=\"translate(255.390375 209.128922)scale(0.1 -0.1)\">\r\n     <use xlink:href=\"#DejaVuSans-54\"/>\r\n     <use x=\"63.623047\" xlink:href=\"#DejaVuSans-57\"/>\r\n     <use x=\"127.246094\" xlink:href=\"#DejaVuSans-49\"/>\r\n    </g>\r\n   </g>\r\n  </g>\r\n  <g id=\"axes_2\">\r\n   <g id=\"patch_3\">\r\n    <path clip-path=\"url(#pdf7a9ada20)\" d=\"M 308.458125 228.113547 \r\nL 308.458125 227.264172 \r\nL 308.458125 11.522922 \r\nL 308.458125 10.673547 \r\nL 319.330125 10.673547 \r\nL 319.330125 11.522922 \r\nL 319.330125 227.264172 \r\nL 319.330125 228.113547 \r\nz\r\n\" style=\"fill:#ffffff;stroke:#ffffff;stroke-linejoin:miter;stroke-width:0.01;\"/>\r\n   </g>\r\n   <image height=\"217\" id=\"imageac36430d37\" transform=\"scale(1 -1)translate(0 -217)\" width=\"11\" x=\"308\" xlink:href=\"data:image/png;base64,\r\niVBORw0KGgoAAAANSUhEUgAAAAsAAADZCAYAAAD2WsoCAAAABHNCSVQICAgIfAhkiAAAAV9JREFUaIHVmtsNAzEIwHjdEt1/zl5XwB+WaL4RMoakuag5z+eN5ZrM3MbS4ADBXSVlLq3AIhgoM7LhYRzx3OnZODF1qECxKTcym+3WbGgYE2g29sucDa3dEGO/zJOfBI82SMyG125vW61D6fB76qANgCGq05iRjSPMCIPtbpKZFbj+PPhbGySY2PAw5gYGazdhHoRxxIaGMe8+tbgH6wYGspFhMcMCAUYzZhIMRIvqEpwF0yS4SDDCgJnXsTFdXymzWCA47BhzNbABmQEGUifaGG02ELOmrsBVhmGENxteMLj3kMceqo5lBjdzlhncCyYIhsfMMMDPJsxMnixQZhhM3us0G0GeDT0bSWxEt4SBmuJ5ztEKFNtNMqM9CD55VRukgx4GssHOOtRBSx3c3RqGVyDK3Gj4bzCzdqN51jZs3pg60QYp8MbwZz9SZnP4iWfSbvQviysFsnZrZ51V4A9keCojHT7iJgAAAABJRU5ErkJggg==\" y=\"-10\"/>\r\n   <g id=\"matplotlib.axis_3\"/>\r\n   <g id=\"matplotlib.axis_4\">\r\n    <g id=\"ytick_6\">\r\n     <g id=\"line2d_11\">\r\n      <defs>\r\n       <path d=\"M 0 0 \r\nL 3.5 0 \r\n\" id=\"mb9c3b34ea4\" style=\"stroke:#000000;stroke-width:0.8;\"/>\r\n      </defs>\r\n      <g>\r\n       <use style=\"stroke:#000000;stroke-width:0.8;\" x=\"319.330125\" xlink:href=\"#mb9c3b34ea4\" y=\"228.113547\"/>\r\n      </g>\r\n     </g>\r\n     <g id=\"text_36\">\r\n      <!-- 0 -->\r\n      <g transform=\"translate(326.330125 231.912766)scale(0.1 -0.1)\">\r\n       <use xlink:href=\"#DejaVuSans-48\"/>\r\n      </g>\r\n     </g>\r\n    </g>\r\n    <g id=\"ytick_7\">\r\n     <g id=\"line2d_12\">\r\n      <g>\r\n       <use style=\"stroke:#000000;stroke-width:0.8;\" x=\"319.330125\" xlink:href=\"#mb9c3b34ea4\" y=\"200.974256\"/>\r\n      </g>\r\n     </g>\r\n     <g id=\"text_37\">\r\n      <!-- 250 -->\r\n      <g transform=\"translate(326.330125 204.773475)scale(0.1 -0.1)\">\r\n       <use xlink:href=\"#DejaVuSans-50\"/>\r\n       <use x=\"63.623047\" xlink:href=\"#DejaVuSans-53\"/>\r\n       <use x=\"127.246094\" xlink:href=\"#DejaVuSans-48\"/>\r\n      </g>\r\n     </g>\r\n    </g>\r\n    <g id=\"ytick_8\">\r\n     <g id=\"line2d_13\">\r\n      <g>\r\n       <use style=\"stroke:#000000;stroke-width:0.8;\" x=\"319.330125\" xlink:href=\"#mb9c3b34ea4\" y=\"173.834965\"/>\r\n      </g>\r\n     </g>\r\n     <g id=\"text_38\">\r\n      <!-- 500 -->\r\n      <g transform=\"translate(326.330125 177.634184)scale(0.1 -0.1)\">\r\n       <use xlink:href=\"#DejaVuSans-53\"/>\r\n       <use x=\"63.623047\" xlink:href=\"#DejaVuSans-48\"/>\r\n       <use x=\"127.246094\" xlink:href=\"#DejaVuSans-48\"/>\r\n      </g>\r\n     </g>\r\n    </g>\r\n    <g id=\"ytick_9\">\r\n     <g id=\"line2d_14\">\r\n      <g>\r\n       <use style=\"stroke:#000000;stroke-width:0.8;\" x=\"319.330125\" xlink:href=\"#mb9c3b34ea4\" y=\"146.695674\"/>\r\n      </g>\r\n     </g>\r\n     <g id=\"text_39\">\r\n      <!-- 750 -->\r\n      <g transform=\"translate(326.330125 150.494893)scale(0.1 -0.1)\">\r\n       <use xlink:href=\"#DejaVuSans-55\"/>\r\n       <use x=\"63.623047\" xlink:href=\"#DejaVuSans-53\"/>\r\n       <use x=\"127.246094\" xlink:href=\"#DejaVuSans-48\"/>\r\n      </g>\r\n     </g>\r\n    </g>\r\n    <g id=\"ytick_10\">\r\n     <g id=\"line2d_15\">\r\n      <g>\r\n       <use style=\"stroke:#000000;stroke-width:0.8;\" x=\"319.330125\" xlink:href=\"#mb9c3b34ea4\" y=\"119.556383\"/>\r\n      </g>\r\n     </g>\r\n     <g id=\"text_40\">\r\n      <!-- 1000 -->\r\n      <g transform=\"translate(326.330125 123.355602)scale(0.1 -0.1)\">\r\n       <use xlink:href=\"#DejaVuSans-49\"/>\r\n       <use x=\"63.623047\" xlink:href=\"#DejaVuSans-48\"/>\r\n       <use x=\"127.246094\" xlink:href=\"#DejaVuSans-48\"/>\r\n       <use x=\"190.869141\" xlink:href=\"#DejaVuSans-48\"/>\r\n      </g>\r\n     </g>\r\n    </g>\r\n    <g id=\"ytick_11\">\r\n     <g id=\"line2d_16\">\r\n      <g>\r\n       <use style=\"stroke:#000000;stroke-width:0.8;\" x=\"319.330125\" xlink:href=\"#mb9c3b34ea4\" y=\"92.417092\"/>\r\n      </g>\r\n     </g>\r\n     <g id=\"text_41\">\r\n      <!-- 1250 -->\r\n      <g transform=\"translate(326.330125 96.216311)scale(0.1 -0.1)\">\r\n       <use xlink:href=\"#DejaVuSans-49\"/>\r\n       <use x=\"63.623047\" xlink:href=\"#DejaVuSans-50\"/>\r\n       <use x=\"127.246094\" xlink:href=\"#DejaVuSans-53\"/>\r\n       <use x=\"190.869141\" xlink:href=\"#DejaVuSans-48\"/>\r\n      </g>\r\n     </g>\r\n    </g>\r\n    <g id=\"ytick_12\">\r\n     <g id=\"line2d_17\">\r\n      <g>\r\n       <use style=\"stroke:#000000;stroke-width:0.8;\" x=\"319.330125\" xlink:href=\"#mb9c3b34ea4\" y=\"65.277801\"/>\r\n      </g>\r\n     </g>\r\n     <g id=\"text_42\">\r\n      <!-- 1500 -->\r\n      <g transform=\"translate(326.330125 69.07702)scale(0.1 -0.1)\">\r\n       <use xlink:href=\"#DejaVuSans-49\"/>\r\n       <use x=\"63.623047\" xlink:href=\"#DejaVuSans-53\"/>\r\n       <use x=\"127.246094\" xlink:href=\"#DejaVuSans-48\"/>\r\n       <use x=\"190.869141\" xlink:href=\"#DejaVuSans-48\"/>\r\n      </g>\r\n     </g>\r\n    </g>\r\n    <g id=\"ytick_13\">\r\n     <g id=\"line2d_18\">\r\n      <g>\r\n       <use style=\"stroke:#000000;stroke-width:0.8;\" x=\"319.330125\" xlink:href=\"#mb9c3b34ea4\" y=\"38.13851\"/>\r\n      </g>\r\n     </g>\r\n     <g id=\"text_43\">\r\n      <!-- 1750 -->\r\n      <g transform=\"translate(326.330125 41.937729)scale(0.1 -0.1)\">\r\n       <use xlink:href=\"#DejaVuSans-49\"/>\r\n       <use x=\"63.623047\" xlink:href=\"#DejaVuSans-55\"/>\r\n       <use x=\"127.246094\" xlink:href=\"#DejaVuSans-53\"/>\r\n       <use x=\"190.869141\" xlink:href=\"#DejaVuSans-48\"/>\r\n      </g>\r\n     </g>\r\n    </g>\r\n    <g id=\"ytick_14\">\r\n     <g id=\"line2d_19\">\r\n      <g>\r\n       <use style=\"stroke:#000000;stroke-width:0.8;\" x=\"319.330125\" xlink:href=\"#mb9c3b34ea4\" y=\"10.999219\"/>\r\n      </g>\r\n     </g>\r\n     <g id=\"text_44\">\r\n      <!-- 2000 -->\r\n      <g transform=\"translate(326.330125 14.798437)scale(0.1 -0.1)\">\r\n       <use xlink:href=\"#DejaVuSans-50\"/>\r\n       <use x=\"63.623047\" xlink:href=\"#DejaVuSans-48\"/>\r\n       <use x=\"127.246094\" xlink:href=\"#DejaVuSans-48\"/>\r\n       <use x=\"190.869141\" xlink:href=\"#DejaVuSans-48\"/>\r\n      </g>\r\n     </g>\r\n    </g>\r\n   </g>\r\n   <g id=\"patch_4\">\r\n    <path d=\"M 308.458125 228.113547 \r\nL 308.458125 227.264172 \r\nL 308.458125 11.522922 \r\nL 308.458125 10.673547 \r\nL 319.330125 10.673547 \r\nL 319.330125 11.522922 \r\nL 319.330125 227.264172 \r\nL 319.330125 228.113547 \r\nz\r\n\" style=\"fill:none;\"/>\r\n   </g>\r\n  </g>\r\n </g>\r\n <defs>\r\n  <clipPath id=\"p7cb2ebe74b\">\r\n   <rect height=\"217.44\" width=\"267.84\" x=\"23.878125\" y=\"10.673547\"/>\r\n  </clipPath>\r\n  <clipPath id=\"pdf7a9ada20\">\r\n   <rect height=\"217.44\" width=\"10.872\" x=\"308.458125\" y=\"10.673547\"/>\r\n  </clipPath>\r\n </defs>\r\n</svg>\r\n",
            "image/png": "[encoded data removed]"
          },
          "metadata": {
            "needs_background": "light"
          }
        }
      ]
    },
    {
      "source": [
        "estimators = [\n",
        "    ('rf', RandomForestClassifier(n_estimators=100)),\n",
        "    ('svr', make_pipeline(MinMaxScaler(),\n",
        "                          LinearSVC()\n",
        "                          )\n",
        "    )]\n",
        "modelo = StackingClassifier(estimators=estimators, final_estimator=LogisticRegression(max_iter=10000, tol=1e-5))\n",
        "\n",
        "# Train the model\n",
        "modelo.fit(x_train, y_train)\n",
        "\n",
        "# Test on unseen data\n",
        "labels = modelo.predict(x_test)"
      ],
      "cell_type": "code",
      "metadata": {},
      "execution_count": 23,
      "outputs": []
    },
    {
      "source": [
        "from sklearn.ensemble import RandomForestClassifier\n",
        "from sklearn.model_selection import GridSearchCV\n",
        "\n",
        "rf = RandomForestClassifier()\n",
        "\n",
        "# Create the parameter grid based on the results of random search \n",
        "param_grid = {\n",
        "    'criterion': ['gini', 'entropy'],\n",
        "    'max_depth': [80, 90, 100, None],\n",
        "    'min_samples_leaf': [1, 2, 3, 4, 5],\n",
        "    'min_samples_split': [2, 3, 4, 5, 6],\n",
        "    'n_estimators': [50, 75, 100, 125, 150]\n",
        "}\n",
        "\n",
        "gs = GridSearchCV(estimator=rf, param_grid=param_grid, cv=5, n_jobs=-1, verbose=1)\n",
        "gs = gs.fit(x_train, y_train)\n",
        "\n",
        "print(gs.best_score_)\n",
        "print(gs.best_params_)\n",
        "\n",
        "bp = gs.best_params_\n",
        "RndForestClf = RandomForestClassifier(criterion=bp['criterion'],\n",
        "                                    min_samples_leaf=bp['min_samples_leaf'],\n",
        "                                    min_samples_split=bp['min_samples_split'],\n",
        "                                    max_depth=bp['max_depth'],\n",
        "                                    n_estimators=bp['n_estimators'])\n",
        "RndForestClf.fit(x_train, y_train)"
      ],
      "cell_type": "code",
      "metadata": {},
      "execution_count": 24,
      "outputs": [
        {
          "output_type": "stream",
          "name": "stdout",
          "text": [
            "Fitting 5 folds for each of 1000 candidates, totalling 5000 fits\n",
            "[Parallel(n_jobs=-1)]: Using backend LokyBackend with 12 concurrent workers.\n",
            "[Parallel(n_jobs=-1)]: Done  26 tasks      | elapsed:   13.6s\n",
            "[Parallel(n_jobs=-1)]: Done 176 tasks      | elapsed:   56.9s\n",
            "[Parallel(n_jobs=-1)]: Done 426 tasks      | elapsed:  2.0min\n",
            "[Parallel(n_jobs=-1)]: Done 776 tasks      | elapsed:  3.6min\n",
            "[Parallel(n_jobs=-1)]: Done 1226 tasks      | elapsed:  5.6min\n",
            "[Parallel(n_jobs=-1)]: Done 1776 tasks      | elapsed:  8.2min\n",
            "[Parallel(n_jobs=-1)]: Done 2426 tasks      | elapsed: 11.1min\n",
            "[Parallel(n_jobs=-1)]: Done 3176 tasks      | elapsed: 14.4min\n",
            "[Parallel(n_jobs=-1)]: Done 4026 tasks      | elapsed: 17.9min\n",
            "[Parallel(n_jobs=-1)]: Done 4976 tasks      | elapsed: 22.1min\n",
            "[Parallel(n_jobs=-1)]: Done 5000 out of 5000 | elapsed: 22.2min finished\n",
            "0.8196718415394493\n",
            "{'criterion': 'entropy', 'max_depth': 100, 'min_samples_leaf': 1, 'min_samples_split': 3, 'n_estimators': 100}\n"
          ]
        },
        {
          "output_type": "execute_result",
          "data": {
            "text/plain": [
              "RandomForestClassifier(bootstrap=True, ccp_alpha=0.0, class_weight=None,\n",
              "                       criterion='entropy', max_depth=100, max_features='auto',\n",
              "                       max_leaf_nodes=None, max_samples=None,\n",
              "                       min_impurity_decrease=0.0, min_impurity_split=None,\n",
              "                       min_samples_leaf=1, min_samples_split=3,\n",
              "                       min_weight_fraction_leaf=0.0, n_estimators=100,\n",
              "                       n_jobs=None, oob_score=False, random_state=None,\n",
              "                       verbose=0, warm_start=False)"
            ]
          },
          "metadata": {},
          "execution_count": 24
        }
      ]
    },
    {
      "cell_type": "code",
      "execution_count": 25,
      "metadata": {},
      "outputs": [],
      "source": [
        "# Test on unseen data\n",
        "labels = StackingClf.predict(x_test)\n",
        "\n",
        "sample[\"Precio_cat\"] = np.round(labels).astype('int')\n",
        "\n",
        "#sample.to_csv('16-STv3.csv', index=False)"
      ]
    },
    {
      "cell_type": "code",
      "execution_count": null,
      "metadata": {},
      "outputs": [],
      "source": []
    }
  ]
}