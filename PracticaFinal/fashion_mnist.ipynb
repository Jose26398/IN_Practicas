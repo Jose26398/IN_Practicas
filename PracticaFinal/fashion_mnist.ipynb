{
  "cells": [
    {
      "cell_type": "markdown",
      "metadata": {
        "id": "9guhdq_LkQMu"
      },
      "source": [
        "\n",
        "\n",
        "---\n",
        "\n",
        "# PRACTICA FINAL\n",
        "José María Sánchez Guerrero\n",
        "---\n",
        "\n"
      ]
    },
    {
      "cell_type": "markdown",
      "metadata": {},
      "source": [
        "## Para ejecutar en colab"
      ]
    },
    {
      "cell_type": "code",
      "metadata": {
        "id": "ijJcCHn0kdYm",
        "colab": {
          "base_uri": "https://localhost:8080/"
        },
        "outputId": "43bf7d27-28db-4ffa-c16a-3b5d76fa415e"
      },
      "source": [
        "# -*- coding: utf-8 -*-\n",
        "\n",
        "import numpy as np\n",
        "import matplotlib.pyplot as plt\n",
        "import cv2\n",
        "from google.colab import drive\n",
        "\n",
        "drive.mount('/content/drive')\n",
        "path = '/content/drive/My Drive/Colab Notebooks/'"
      ],
      "execution_count": 1,
      "outputs": [
        {
          "output_type": "stream",
          "text": [
            "Mounted at /content/drive\n"
          ],
          "name": "stdout"
        }
      ]
    },
    {
      "cell_type": "code",
      "metadata": {
        "id": "NI_cYo8ck7mn"
      },
      "source": [
        "def load_mnist(path, kind='train'):\n",
        "    import os\n",
        "    import gzip\n",
        "    import numpy as np\n",
        "\n",
        "    \"\"\"Load MNIST data from `path`\"\"\"\n",
        "    labels_path = os.path.join(path,\n",
        "                               '%s-labels-idx1-ubyte.gz'\n",
        "                               % kind)\n",
        "    images_path = os.path.join(path,\n",
        "                               '%s-images-idx3-ubyte.gz'\n",
        "                               % kind)\n",
        "\n",
        "    with gzip.open(labels_path, 'rb') as lbpath:\n",
        "        labels = np.frombuffer(lbpath.read(), dtype=np.uint8,\n",
        "                               offset=8)\n",
        "\n",
        "    with gzip.open(images_path, 'rb') as imgpath:\n",
        "        images = np.frombuffer(imgpath.read(), dtype=np.uint8,\n",
        "                               offset=16).reshape(len(labels), 784)\n",
        "\n",
        "    return images, labels"
      ],
      "execution_count": 2,
      "outputs": []
    },
    {
      "cell_type": "markdown",
      "metadata": {
        "id": "fcrDSaFTkQM4"
      },
      "source": [
        "# Read Data"
      ]
    },
    {
      "cell_type": "code",
      "metadata": {
        "tags": [],
        "id": "dai6h_K1kQM5"
      },
      "source": [
        "## DESCOMENTAR PARA DESCARGAR LOS DATOS##\n",
        "#from tensorflow.examples.tutorials.mnist import input_data\n",
        "\n",
        "#data = input_data.read_data_sets('data', source_url='http://fashion-mnist.s3-website.eu-central-1.amazonaws.com/')"
      ],
      "execution_count": 3,
      "outputs": []
    },
    {
      "cell_type": "code",
      "metadata": {
        "id": "Xmrvoa2IkQM6"
      },
      "source": [
        "import mnist_reader\n",
        "x_train, y_train = mnist_reader.load_mnist('data', kind='train')\n",
        "x_test, y_test = mnist_reader.load_mnist('data', kind='t10k')"
      ],
      "execution_count": 4,
      "outputs": []
    },
    {
      "cell_type": "markdown",
      "metadata": {
        "id": "0V7speT1kQM6"
      },
      "source": [
        "# Init variables"
      ]
    },
    {
      "cell_type": "code",
      "metadata": {
        "id": "A1g9dmyMkQM6"
      },
      "source": [
        "batch_size = 128\n",
        "num_classes = 10\n",
        "epochs = 30\n",
        "\n",
        "# input image dimensions\n",
        "img_rows, img_cols = 28, 28"
      ],
      "execution_count": 5,
      "outputs": []
    },
    {
      "cell_type": "markdown",
      "metadata": {
        "id": "3VEdl3U5kQM7"
      },
      "source": [
        "# Preprocessing data"
      ]
    },
    {
      "cell_type": "code",
      "metadata": {
        "tags": [],
        "id": "HbMyQVc_kQM7",
        "colab": {
          "base_uri": "https://localhost:8080/"
        },
        "outputId": "629c3186-328e-477a-d626-70c2f1b77075"
      },
      "source": [
        "import keras\n",
        "from keras import backend as K\n",
        "import numpy as np\n",
        "\n",
        "if K.image_data_format() == 'channels_first':\n",
        "    x_train = x_train.reshape(x_train.shape[0], 1, img_rows, img_cols)\n",
        "    x_test = x_test.reshape(x_test.shape[0], 1, img_rows, img_cols)\n",
        "    input_shape = (1, img_rows, img_cols)\n",
        "else:\n",
        "    x_train = x_train.reshape(x_train.shape[0], img_rows, img_cols, 1)\n",
        "    x_test = x_test.reshape(x_test.shape[0], img_rows, img_cols, 1)\n",
        "    input_shape = (img_rows, img_cols, 1)\n",
        "\n",
        "x_train = x_train.astype('float32')\n",
        "x_test = x_test.astype('float32')\n",
        "x_train /= 255\n",
        "x_test /= 255\n",
        "print('x_train shape:', x_train.shape)\n",
        "print(x_train.shape[0], 'train samples')\n",
        "print(x_test.shape[0], 'test samples')\n",
        "\n",
        "# convert class vectors to binary class matrices\n",
        "y_train = keras.utils.to_categorical(y_train, num_classes)\n",
        "y_test = keras.utils.to_categorical(y_test, num_classes)"
      ],
      "execution_count": 6,
      "outputs": [
        {
          "output_type": "stream",
          "text": [
            "x_train shape: (60000, 28, 28, 1)\n",
            "60000 train samples\n",
            "10000 test samples\n"
          ],
          "name": "stdout"
        }
      ]
    },
    {
      "cell_type": "markdown",
      "metadata": {
        "id": "8xAZVNFbkQM9"
      },
      "source": [
        "# Algorithms"
      ]
    },
    {
      "cell_type": "markdown",
      "metadata": {
        "id": "2z79Hl6ekQM-"
      },
      "source": [
        "## Clasic classifiers"
      ]
    },
    {
      "cell_type": "code",
      "metadata": {
        "tags": [],
        "id": "x-1uUtdpkQM-",
        "colab": {
          "base_uri": "https://localhost:8080/",
          "height": 573
        },
        "outputId": "f9637453-4c56-42fc-e5b0-357e1b25c6f1"
      },
      "source": [
        "import seaborn as sns\n",
        "from sklearn.metrics import accuracy_score, classification_report, confusion_matrix\n",
        "from sklearn.ensemble import RandomForestClassifier\n",
        "\n",
        "rf = RandomForestClassifier(n_estimators=100, criterion='entropy', max_depth=50)\n",
        "rf.fit(x_train.reshape(x_train.shape[0], img_cols*img_rows), y_train)\n",
        "\n",
        "# Calculo de las predicciones mediante validacion cruzada (5-folds)\n",
        "y_pred = rf.predict(x_test.reshape(x_test.shape[0], img_cols*img_rows))\n",
        "\n",
        "print(classification_report(y_test.argmax(axis=1), y_pred.argmax(axis=1)))\n",
        "print(\"SCORE: \", accuracy_score(y_test.argmax(axis=1), y_pred.argmax(axis=1)))\n",
        "\n",
        "# Matriz de confusion de los resultados\n",
        "confusion_matrix = confusion_matrix(y_test.argmax(axis=1), y_pred.argmax(axis=1))\n",
        "\n",
        "sns.heatmap(confusion_matrix, annot = True, fmt='g')"
      ],
      "execution_count": 20,
      "outputs": [
        {
          "output_type": "stream",
          "text": [
            "              precision    recall  f1-score   support\n",
            "\n",
            "           0       0.45      0.95      0.61      1000\n",
            "           1       1.00      0.95      0.97      1000\n",
            "           2       0.85      0.69      0.76      1000\n",
            "           3       0.93      0.85      0.88      1000\n",
            "           4       0.84      0.71      0.77      1000\n",
            "           5       0.99      0.93      0.96      1000\n",
            "           6       0.87      0.42      0.57      1000\n",
            "           7       0.94      0.94      0.94      1000\n",
            "           8       0.99      0.95      0.97      1000\n",
            "           9       0.97      0.94      0.95      1000\n",
            "\n",
            "    accuracy                           0.83     10000\n",
            "   macro avg       0.88      0.83      0.84     10000\n",
            "weighted avg       0.88      0.83      0.84     10000\n",
            "\n",
            "SCORE:  0.8326\n"
          ],
          "name": "stdout"
        },
        {
          "output_type": "execute_result",
          "data": {
            "text/plain": [
              "<matplotlib.axes._subplots.AxesSubplot at 0x7fb2824ab4a8>"
            ]
          },
          "metadata": {
            "tags": []
          },
          "execution_count": 20
        },
        {
          "output_type": "display_data",
          "data": {
            "image/png": "[encoded data removed]",
            "text/plain": [
              "<Figure size 432x288 with 2 Axes>"
            ]
          },
          "metadata": {
            "tags": [],
            "needs_background": "light"
          }
        }
      ]
    },
    {
      "cell_type": "code",
      "metadata": {
        "tags": [],
        "id": "6Q0MBj1ZkQNA",
        "colab": {
          "base_uri": "https://localhost:8080/",
          "height": 573
        },
        "outputId": "e49f5526-ac3c-4294-f6b5-f13edada9279"
      },
      "source": [
        "import seaborn as sns\n",
        "from sklearn.svm import SVC\n",
        "from sklearn.metrics import accuracy_score, classification_report, confusion_matrix\n",
        "\n",
        "svc = SVC(C=10, kernel='poly')\n",
        "svc.fit(x_train.reshape(x_train.shape[0], img_cols*img_rows), y_train.argmax(axis=1))\n",
        "\n",
        "# Calculo de las predicciones mediante validacion cruzada (5-folds)\n",
        "y_pred = svc.predict(x_test.reshape(x_test.shape[0], img_cols*img_rows))\n",
        "\n",
        "print(classification_report(y_test.argmax(axis=1), y_pred))\n",
        "print(\"SCORE: \", accuracy_score(y_test.argmax(axis=1), y_pred))\n",
        "\n",
        "# Matriz de confusion de los resultados\n",
        "confusion_matrix = confusion_matrix(y_test.argmax(axis=1), y_pred)\n",
        "\n",
        "sns.heatmap(confusion_matrix, annot = True, fmt='g')"
      ],
      "execution_count": 8,
      "outputs": [
        {
          "output_type": "stream",
          "text": [
            "              precision    recall  f1-score   support\n",
            "\n",
            "           0       0.79      0.85      0.82      1000\n",
            "           1       0.99      0.97      0.98      1000\n",
            "           2       0.79      0.82      0.81      1000\n",
            "           3       0.88      0.88      0.88      1000\n",
            "           4       0.84      0.78      0.81      1000\n",
            "           5       0.93      0.97      0.95      1000\n",
            "           6       0.72      0.69      0.70      1000\n",
            "           7       0.95      0.95      0.95      1000\n",
            "           8       0.97      0.95      0.96      1000\n",
            "           9       0.97      0.95      0.96      1000\n",
            "\n",
            "    accuracy                           0.88     10000\n",
            "   macro avg       0.88      0.88      0.88     10000\n",
            "weighted avg       0.88      0.88      0.88     10000\n",
            "\n",
            "SCORE:  0.8808\n"
          ],
          "name": "stdout"
        },
        {
          "output_type": "execute_result",
          "data": {
            "text/plain": [
              "<matplotlib.axes._subplots.AxesSubplot at 0x7fb2e3ef1d30>"
            ]
          },
          "metadata": {
            "tags": []
          },
          "execution_count": 8
        },
        {
          "output_type": "display_data",
          "data": {
            "image/png": "[encoded data removed]",
            "text/plain": [
              "<Figure size 432x288 with 2 Axes>"
            ]
          },
          "metadata": {
            "tags": [],
            "needs_background": "light"
          }
        }
      ]
    },
    {
      "cell_type": "code",
      "metadata": {
        "id": "ubEnhriPkQNB",
        "colab": {
          "base_uri": "https://localhost:8080/",
          "height": 1000
        },
        "outputId": "53f77662-6226-4b58-fb4a-4ea5bfcb0e84"
      },
      "source": [
        "import seaborn as sns\n",
        "from sklearn.ensemble import StackingClassifier, RandomForestClassifier\n",
        "from sklearn.svm import LinearSVC\n",
        "from sklearn.linear_model import LogisticRegression\n",
        "from sklearn.naive_bayes import GaussianNB\n",
        "from sklearn.metrics import accuracy_score, classification_report, confusion_matrix\n",
        "\n",
        "RndForestClf = RandomForestClassifier()\n",
        "\n",
        "estimators = [\n",
        "    ('lr', LogisticRegression()),\n",
        "    ('RndForestClf', RndForestClf),\n",
        "    ('svr', LinearSVC() )\n",
        "]\n",
        "\n",
        "StackingClf = StackingClassifier(estimators=estimators, final_estimator=LogisticRegression())\n",
        "StackingClf.fit(x_train.reshape(x_train.shape[0], img_cols*img_rows), y_train.argmax(axis=1))\n",
        "\n",
        "# Calculo de las predicciones mediante validacion cruzada (5-folds)\n",
        "y_pred = StackingClf.predict(x_test.reshape(x_test.shape[0], img_cols*img_rows))\n",
        "\n",
        "print(classification_report(y_test.argmax(axis=1), y_pred))\n",
        "print(\"SCORE: \", accuracy_score(y_test.argmax(axis=1), y_pred))\n",
        "\n",
        "# Matriz de confusion de los resultados\n",
        "confusion_matrix = confusion_matrix(y_test.argmax(axis=1), y_pred)\n",
        "\n",
        "sns.heatmap(confusion_matrix, annot = True, fmt='g')"
      ],
      "execution_count": 16,
      "outputs": [
        {
          "output_type": "stream",
          "text": [
            "/usr/local/lib/python3.6/dist-packages/sklearn/linear_model/_logistic.py:940: ConvergenceWarning: lbfgs failed to converge (status=1):\n",
            "STOP: TOTAL NO. of ITERATIONS REACHED LIMIT.\n",
            "\n",
            "Increase the number of iterations (max_iter) or scale the data as shown in:\n",
            "    https://scikit-learn.org/stable/modules/preprocessing.html\n",
            "Please also refer to the documentation for alternative solver options:\n",
            "    https://scikit-learn.org/stable/modules/linear_model.html#logistic-regression\n",
            "  extra_warning_msg=_LOGISTIC_SOLVER_CONVERGENCE_MSG)\n",
            "/usr/local/lib/python3.6/dist-packages/sklearn/svm/_base.py:947: ConvergenceWarning: Liblinear failed to converge, increase the number of iterations.\n",
            "  \"the number of iterations.\", ConvergenceWarning)\n",
            "/usr/local/lib/python3.6/dist-packages/sklearn/linear_model/_logistic.py:940: ConvergenceWarning: lbfgs failed to converge (status=1):\n",
            "STOP: TOTAL NO. of ITERATIONS REACHED LIMIT.\n",
            "\n",
            "Increase the number of iterations (max_iter) or scale the data as shown in:\n",
            "    https://scikit-learn.org/stable/modules/preprocessing.html\n",
            "Please also refer to the documentation for alternative solver options:\n",
            "    https://scikit-learn.org/stable/modules/linear_model.html#logistic-regression\n",
            "  extra_warning_msg=_LOGISTIC_SOLVER_CONVERGENCE_MSG)\n",
            "/usr/local/lib/python3.6/dist-packages/sklearn/linear_model/_logistic.py:940: ConvergenceWarning: lbfgs failed to converge (status=1):\n",
            "STOP: TOTAL NO. of ITERATIONS REACHED LIMIT.\n",
            "\n",
            "Increase the number of iterations (max_iter) or scale the data as shown in:\n",
            "    https://scikit-learn.org/stable/modules/preprocessing.html\n",
            "Please also refer to the documentation for alternative solver options:\n",
            "    https://scikit-learn.org/stable/modules/linear_model.html#logistic-regression\n",
            "  extra_warning_msg=_LOGISTIC_SOLVER_CONVERGENCE_MSG)\n",
            "/usr/local/lib/python3.6/dist-packages/sklearn/linear_model/_logistic.py:940: ConvergenceWarning: lbfgs failed to converge (status=1):\n",
            "STOP: TOTAL NO. of ITERATIONS REACHED LIMIT.\n",
            "\n",
            "Increase the number of iterations (max_iter) or scale the data as shown in:\n",
            "    https://scikit-learn.org/stable/modules/preprocessing.html\n",
            "Please also refer to the documentation for alternative solver options:\n",
            "    https://scikit-learn.org/stable/modules/linear_model.html#logistic-regression\n",
            "  extra_warning_msg=_LOGISTIC_SOLVER_CONVERGENCE_MSG)\n",
            "/usr/local/lib/python3.6/dist-packages/sklearn/linear_model/_logistic.py:940: ConvergenceWarning: lbfgs failed to converge (status=1):\n",
            "STOP: TOTAL NO. of ITERATIONS REACHED LIMIT.\n",
            "\n",
            "Increase the number of iterations (max_iter) or scale the data as shown in:\n",
            "    https://scikit-learn.org/stable/modules/preprocessing.html\n",
            "Please also refer to the documentation for alternative solver options:\n",
            "    https://scikit-learn.org/stable/modules/linear_model.html#logistic-regression\n",
            "  extra_warning_msg=_LOGISTIC_SOLVER_CONVERGENCE_MSG)\n",
            "/usr/local/lib/python3.6/dist-packages/sklearn/linear_model/_logistic.py:940: ConvergenceWarning: lbfgs failed to converge (status=1):\n",
            "STOP: TOTAL NO. of ITERATIONS REACHED LIMIT.\n",
            "\n",
            "Increase the number of iterations (max_iter) or scale the data as shown in:\n",
            "    https://scikit-learn.org/stable/modules/preprocessing.html\n",
            "Please also refer to the documentation for alternative solver options:\n",
            "    https://scikit-learn.org/stable/modules/linear_model.html#logistic-regression\n",
            "  extra_warning_msg=_LOGISTIC_SOLVER_CONVERGENCE_MSG)\n",
            "/usr/local/lib/python3.6/dist-packages/sklearn/svm/_base.py:947: ConvergenceWarning: Liblinear failed to converge, increase the number of iterations.\n",
            "  \"the number of iterations.\", ConvergenceWarning)\n",
            "/usr/local/lib/python3.6/dist-packages/sklearn/svm/_base.py:947: ConvergenceWarning: Liblinear failed to converge, increase the number of iterations.\n",
            "  \"the number of iterations.\", ConvergenceWarning)\n",
            "/usr/local/lib/python3.6/dist-packages/sklearn/svm/_base.py:947: ConvergenceWarning: Liblinear failed to converge, increase the number of iterations.\n",
            "  \"the number of iterations.\", ConvergenceWarning)\n",
            "/usr/local/lib/python3.6/dist-packages/sklearn/svm/_base.py:947: ConvergenceWarning: Liblinear failed to converge, increase the number of iterations.\n",
            "  \"the number of iterations.\", ConvergenceWarning)\n",
            "/usr/local/lib/python3.6/dist-packages/sklearn/svm/_base.py:947: ConvergenceWarning: Liblinear failed to converge, increase the number of iterations.\n",
            "  \"the number of iterations.\", ConvergenceWarning)\n",
            "/usr/local/lib/python3.6/dist-packages/sklearn/linear_model/_logistic.py:940: ConvergenceWarning: lbfgs failed to converge (status=1):\n",
            "STOP: TOTAL NO. of ITERATIONS REACHED LIMIT.\n",
            "\n",
            "Increase the number of iterations (max_iter) or scale the data as shown in:\n",
            "    https://scikit-learn.org/stable/modules/preprocessing.html\n",
            "Please also refer to the documentation for alternative solver options:\n",
            "    https://scikit-learn.org/stable/modules/linear_model.html#logistic-regression\n",
            "  extra_warning_msg=_LOGISTIC_SOLVER_CONVERGENCE_MSG)\n"
          ],
          "name": "stderr"
        },
        {
          "output_type": "stream",
          "text": [
            "              precision    recall  f1-score   support\n",
            "\n",
            "           0       0.82      0.84      0.83      1000\n",
            "           1       0.98      0.96      0.97      1000\n",
            "           2       0.76      0.80      0.78      1000\n",
            "           3       0.85      0.90      0.87      1000\n",
            "           4       0.77      0.80      0.79      1000\n",
            "           5       0.96      0.95      0.96      1000\n",
            "           6       0.68      0.59      0.64      1000\n",
            "           7       0.93      0.95      0.94      1000\n",
            "           8       0.94      0.95      0.95      1000\n",
            "           9       0.96      0.95      0.95      1000\n",
            "\n",
            "    accuracy                           0.87     10000\n",
            "   macro avg       0.87      0.87      0.87     10000\n",
            "weighted avg       0.87      0.87      0.87     10000\n",
            "\n",
            "SCORE:  0.8679\n"
          ],
          "name": "stdout"
        },
        {
          "output_type": "execute_result",
          "data": {
            "text/plain": [
              "<matplotlib.axes._subplots.AxesSubplot at 0x7fb27a6ec748>"
            ]
          },
          "metadata": {
            "tags": []
          },
          "execution_count": 16
        },
        {
          "output_type": "display_data",
          "data": {
            "image/png": "[encoded data removed]",
            "text/plain": [
              "<Figure size 432x288 with 2 Axes>"
            ]
          },
          "metadata": {
            "tags": [],
            "needs_background": "light"
          }
        }
      ]
    },
    {
      "cell_type": "markdown",
      "metadata": {
        "id": "z-uaDGLIkQNC"
      },
      "source": [
        "## Deep Learning aproximation"
      ]
    },
    {
      "cell_type": "code",
      "metadata": {
        "tags": [],
        "id": "ws1RQnTtkQND",
        "colab": {
          "base_uri": "https://localhost:8080/"
        },
        "outputId": "15c6337c-35b9-4c4d-da5a-bd122ee36935"
      },
      "source": [
        "import keras\n",
        "from keras.models import Sequential\n",
        "from keras.layers import Dense, Dropout, Flatten, Conv2D, MaxPooling2D\n",
        "from sklearn.metrics import accuracy_score, classification_report, confusion_matrix\n",
        "\n",
        "model = Sequential()\n",
        "model.add(Conv2D(32, kernel_size=(3, 3),\n",
        "                 activation='relu',\n",
        "                 input_shape=input_shape))\n",
        "\n",
        "model.add(Conv2D(64, (3, 3), activation='relu'))\n",
        "model.add(MaxPooling2D(pool_size=(2, 2)))\n",
        "model.add(Dropout(0.25))\n",
        "model.add(Flatten())\n",
        "\n",
        "model.add(Dense(128, activation='relu'))\n",
        "model.add(Dropout(0.5))\n",
        "model.add(Dense(num_classes, activation='softmax'))\n",
        "\n",
        "model.compile(loss=keras.losses.categorical_crossentropy,\n",
        "              optimizer=keras.optimizers.Adam(),\n",
        "              metrics=['accuracy'])\n",
        "\n",
        "model.summary()\n",
        "\n",
        "model.fit(x_train, y_train,\n",
        "          steps_per_epoch=int( np.ceil(len(x_train)/batch_size)),\n",
        "          epochs=40,\n",
        "          verbose=1,\n",
        "          validation_data=(x_test, y_test),\n",
        "          validation_steps=int( np.ceil(len(x_test)/batch_size))\n",
        "          )\n",
        "          \n",
        "score = model.evaluate(x_test, y_test, verbose=1)\n",
        "print('Test loss:', score[0])\n",
        "print('Test accuracy:', score[1])"
      ],
      "execution_count": 19,
      "outputs": [
        {
          "output_type": "stream",
          "text": [
            "Model: \"sequential_6\"\n",
            "_________________________________________________________________\n",
            "Layer (type)                 Output Shape              Param #   \n",
            "=================================================================\n",
            "conv2d_6 (Conv2D)            (None, 26, 26, 32)        320       \n",
            "_________________________________________________________________\n",
            "conv2d_7 (Conv2D)            (None, 24, 24, 64)        18496     \n",
            "_________________________________________________________________\n",
            "max_pooling2d_3 (MaxPooling2 (None, 12, 12, 64)        0         \n",
            "_________________________________________________________________\n",
            "dropout_9 (Dropout)          (None, 12, 12, 64)        0         \n",
            "_________________________________________________________________\n",
            "flatten_6 (Flatten)          (None, 9216)              0         \n",
            "_________________________________________________________________\n",
            "dense_12 (Dense)             (None, 128)               1179776   \n",
            "_________________________________________________________________\n",
            "dropout_10 (Dropout)         (None, 128)               0         \n",
            "_________________________________________________________________\n",
            "dense_13 (Dense)             (None, 10)                1290      \n",
            "=================================================================\n",
            "Total params: 1,199,882\n",
            "Trainable params: 1,199,882\n",
            "Non-trainable params: 0\n",
            "_________________________________________________________________\n",
            "Epoch 1/40\n",
            "469/469 [==============================] - 4s 8ms/step - loss: 0.7400 - accuracy: 0.7405 - val_loss: 0.3353 - val_accuracy: 0.8801\n",
            "Epoch 2/40\n",
            "469/469 [==============================] - 4s 8ms/step - loss: 0.3532 - accuracy: 0.8733 - val_loss: 0.2800 - val_accuracy: 0.8962\n",
            "Epoch 3/40\n",
            "469/469 [==============================] - 4s 8ms/step - loss: 0.2939 - accuracy: 0.8947 - val_loss: 0.2583 - val_accuracy: 0.9061\n",
            "Epoch 4/40\n",
            "469/469 [==============================] - 4s 8ms/step - loss: 0.2668 - accuracy: 0.9027 - val_loss: 0.2433 - val_accuracy: 0.9126\n",
            "Epoch 5/40\n",
            "469/469 [==============================] - 4s 8ms/step - loss: 0.2348 - accuracy: 0.9135 - val_loss: 0.2350 - val_accuracy: 0.9143\n",
            "Epoch 6/40\n",
            "469/469 [==============================] - 4s 8ms/step - loss: 0.2169 - accuracy: 0.9206 - val_loss: 0.2240 - val_accuracy: 0.9213\n",
            "Epoch 7/40\n",
            "469/469 [==============================] - 4s 8ms/step - loss: 0.1923 - accuracy: 0.9277 - val_loss: 0.2223 - val_accuracy: 0.9213\n",
            "Epoch 8/40\n",
            "469/469 [==============================] - 4s 8ms/step - loss: 0.1867 - accuracy: 0.9298 - val_loss: 0.2152 - val_accuracy: 0.9237\n",
            "Epoch 9/40\n",
            "469/469 [==============================] - 4s 8ms/step - loss: 0.1732 - accuracy: 0.9356 - val_loss: 0.2256 - val_accuracy: 0.9239\n",
            "Epoch 10/40\n",
            "469/469 [==============================] - 4s 8ms/step - loss: 0.1554 - accuracy: 0.9424 - val_loss: 0.2106 - val_accuracy: 0.9288\n",
            "Epoch 11/40\n",
            "469/469 [==============================] - 4s 8ms/step - loss: 0.1472 - accuracy: 0.9458 - val_loss: 0.2089 - val_accuracy: 0.9299\n",
            "Epoch 12/40\n",
            "469/469 [==============================] - 4s 8ms/step - loss: 0.1354 - accuracy: 0.9492 - val_loss: 0.2160 - val_accuracy: 0.9258\n",
            "Epoch 13/40\n",
            "469/469 [==============================] - 4s 8ms/step - loss: 0.1302 - accuracy: 0.9500 - val_loss: 0.2198 - val_accuracy: 0.9308\n",
            "Epoch 14/40\n",
            "469/469 [==============================] - 4s 8ms/step - loss: 0.1213 - accuracy: 0.9545 - val_loss: 0.2206 - val_accuracy: 0.9291\n",
            "Epoch 15/40\n",
            "469/469 [==============================] - 4s 8ms/step - loss: 0.1171 - accuracy: 0.9558 - val_loss: 0.2164 - val_accuracy: 0.9300\n",
            "Epoch 16/40\n",
            "469/469 [==============================] - 4s 8ms/step - loss: 0.1086 - accuracy: 0.9584 - val_loss: 0.2295 - val_accuracy: 0.9292\n",
            "Epoch 17/40\n",
            "469/469 [==============================] - 4s 8ms/step - loss: 0.1054 - accuracy: 0.9601 - val_loss: 0.2434 - val_accuracy: 0.9286\n",
            "Epoch 18/40\n",
            "469/469 [==============================] - 4s 8ms/step - loss: 0.1017 - accuracy: 0.9618 - val_loss: 0.2316 - val_accuracy: 0.9329\n",
            "Epoch 19/40\n",
            "469/469 [==============================] - 4s 8ms/step - loss: 0.0971 - accuracy: 0.9627 - val_loss: 0.2397 - val_accuracy: 0.9288\n",
            "Epoch 20/40\n",
            "469/469 [==============================] - 4s 8ms/step - loss: 0.0948 - accuracy: 0.9650 - val_loss: 0.2455 - val_accuracy: 0.9291\n",
            "Epoch 21/40\n",
            "469/469 [==============================] - 4s 8ms/step - loss: 0.0910 - accuracy: 0.9652 - val_loss: 0.2425 - val_accuracy: 0.9321\n",
            "Epoch 22/40\n",
            "469/469 [==============================] - 4s 8ms/step - loss: 0.0844 - accuracy: 0.9679 - val_loss: 0.2537 - val_accuracy: 0.9310\n",
            "Epoch 23/40\n",
            "469/469 [==============================] - 4s 8ms/step - loss: 0.0821 - accuracy: 0.9684 - val_loss: 0.2569 - val_accuracy: 0.9319\n",
            "Epoch 24/40\n",
            "469/469 [==============================] - 4s 8ms/step - loss: 0.0822 - accuracy: 0.9685 - val_loss: 0.2475 - val_accuracy: 0.9333\n",
            "Epoch 25/40\n",
            "469/469 [==============================] - 4s 8ms/step - loss: 0.0783 - accuracy: 0.9692 - val_loss: 0.2700 - val_accuracy: 0.9293\n",
            "Epoch 26/40\n",
            "469/469 [==============================] - 4s 8ms/step - loss: 0.0775 - accuracy: 0.9698 - val_loss: 0.2774 - val_accuracy: 0.9316\n",
            "Epoch 27/40\n",
            "469/469 [==============================] - 4s 8ms/step - loss: 0.0776 - accuracy: 0.9701 - val_loss: 0.2388 - val_accuracy: 0.9356\n",
            "Epoch 28/40\n",
            "469/469 [==============================] - 4s 8ms/step - loss: 0.0730 - accuracy: 0.9711 - val_loss: 0.2573 - val_accuracy: 0.9335\n",
            "Epoch 29/40\n",
            "469/469 [==============================] - 4s 8ms/step - loss: 0.0689 - accuracy: 0.9729 - val_loss: 0.2679 - val_accuracy: 0.9319\n",
            "Epoch 30/40\n",
            "469/469 [==============================] - 4s 8ms/step - loss: 0.0683 - accuracy: 0.9741 - val_loss: 0.2600 - val_accuracy: 0.9322\n",
            "Epoch 31/40\n",
            "469/469 [==============================] - 4s 8ms/step - loss: 0.0660 - accuracy: 0.9746 - val_loss: 0.2777 - val_accuracy: 0.9312\n",
            "Epoch 32/40\n",
            "469/469 [==============================] - 4s 8ms/step - loss: 0.0641 - accuracy: 0.9756 - val_loss: 0.2902 - val_accuracy: 0.9288\n",
            "Epoch 33/40\n",
            "469/469 [==============================] - 4s 8ms/step - loss: 0.0659 - accuracy: 0.9740 - val_loss: 0.2888 - val_accuracy: 0.9316\n",
            "Epoch 34/40\n",
            "469/469 [==============================] - 4s 8ms/step - loss: 0.0613 - accuracy: 0.9778 - val_loss: 0.2955 - val_accuracy: 0.9319\n",
            "Epoch 35/40\n",
            "469/469 [==============================] - 4s 8ms/step - loss: 0.0605 - accuracy: 0.9762 - val_loss: 0.3012 - val_accuracy: 0.9320\n",
            "Epoch 36/40\n",
            "469/469 [==============================] - 4s 8ms/step - loss: 0.0624 - accuracy: 0.9762 - val_loss: 0.2790 - val_accuracy: 0.9302\n",
            "Epoch 37/40\n",
            "469/469 [==============================] - 4s 8ms/step - loss: 0.0598 - accuracy: 0.9778 - val_loss: 0.3164 - val_accuracy: 0.9326\n",
            "Epoch 38/40\n",
            "469/469 [==============================] - 4s 8ms/step - loss: 0.0574 - accuracy: 0.9780 - val_loss: 0.3148 - val_accuracy: 0.9320\n",
            "Epoch 39/40\n",
            "469/469 [==============================] - 4s 8ms/step - loss: 0.0573 - accuracy: 0.9776 - val_loss: 0.3219 - val_accuracy: 0.9309\n",
            "Epoch 40/40\n",
            "469/469 [==============================] - 4s 8ms/step - loss: 0.0556 - accuracy: 0.9795 - val_loss: 0.3275 - val_accuracy: 0.9329\n",
            "313/313 [==============================] - 1s 2ms/step - loss: 0.3275 - accuracy: 0.9329\n",
            "Test loss: 0.32749420404434204\n",
            "Test accuracy: 0.9329000115394592\n"
          ],
          "name": "stdout"
        }
      ]
    },
    {
      "cell_type": "markdown",
      "metadata": {
        "id": "PcfliGf8kQND"
      },
      "source": [
        "## Pre-trained Network - ResNet50"
      ]
    },
    {
      "cell_type": "code",
      "metadata": {
        "tags": [],
        "id": "UjE5Vo6VkQNE",
        "colab": {
          "base_uri": "https://localhost:8080/"
        },
        "outputId": "f94cb25f-0efb-4b16-89b9-168abf5520ba"
      },
      "source": [
        "import keras.utils as np_utils\n",
        "from keras.models import Sequential\n",
        "from keras.layers import Dense, Dropout, Flatten, Conv2D, MaxPooling2D, BatchNormalization\n",
        "from keras.applications.resnet50 import ResNet50, preprocess_input\n",
        "from keras.preprocessing.image import load_img, img_to_array, ImageDataGenerator\n",
        "from keras.callbacks import ReduceLROnPlateau\n",
        "\n",
        "\n",
        "# Expandimos las imagenes para que sean de 32x32, que es lo que admite resnet50\n",
        "x_train_prep = x_train.reshape(-1,28,28)\n",
        "x_test_prep = x_test.reshape(-1,28,28)\n",
        "\n",
        "new_Cols = np.zeros([28,2])\n",
        "new_Rows = np.zeros([2,32])\n",
        "expand_X_train = np.zeros([len(x_train_prep),32,32])\n",
        "expand_X_test = np.zeros([len(x_test_prep),32,32])\n",
        "\n",
        "for i in range(len(x_train)):\n",
        "    aux = np.c_[new_Cols, x_train_prep[i]]\n",
        "    aux = np.c_[aux, new_Cols]\n",
        "    aux = np.r_[new_Rows, aux]\n",
        "    expand_X_train[i] = np.r_[aux, new_Rows]\n",
        "    \n",
        "for i in range(len(x_test)):\n",
        "    aux = np.c_[new_Cols, x_test_prep[i]]\n",
        "    aux = np.c_[aux, new_Cols]\n",
        "    aux = np.r_[new_Rows, aux]\n",
        "    expand_X_test[i] = np.r_[aux, new_Rows]\n",
        "\n",
        "new_X_train = np.zeros([len(x_train),32,32,3])\n",
        "new_X_test = np.zeros([len(x_test),32,32,3])\n",
        "\n",
        "new_X_train[:,:,:,] = expand_X_train.reshape(-1,32,32,1)\n",
        "new_X_test[:,:,:,] = expand_X_test.reshape(-1,32,32,1)\n",
        "\n",
        "\n",
        "\n",
        "# Definir el modelo ResNet50 (preentrenado en ImageNet y sin la última capa).\n",
        "model = Sequential()\n",
        "model.add(ResNet50(include_top=False,\n",
        "                   weights='imagenet',\n",
        "                   input_tensor=None,\n",
        "                   input_shape=(32,32,3),\n",
        "                   pooling='avg',classes=10))\n",
        "model.add(Flatten())\n",
        "model.add(Dense(64, activation='relu'))\n",
        "model.add(Dropout(0.5))\n",
        "model.add(BatchNormalization())\n",
        "model.add(Dense(10, activation='softmax'))\n",
        "\n",
        "\n",
        "# Compilar el modelo\n",
        "model.compile(optimizer=keras.optimizers.Adam(lr=0.0001),\n",
        "              loss='categorical_crossentropy',\n",
        "              metrics=['accuracy'])\n",
        "red_lr= ReduceLROnPlateau(monitor='val_accuracy',\n",
        "                          patience=3,\n",
        "                          verbose=1,\n",
        "                          factor=0.7)\n",
        "epochs=20\n",
        "\n",
        "model.summary()\n",
        "\n",
        "model.fit(new_X_train,y_train,\n",
        "          batch_size = batch_size,\n",
        "          epochs = epochs,\n",
        "          validation_data = (new_X_test,y_test),\n",
        "          verbose = 1,\n",
        "          callbacks=[red_lr])  \n",
        "          \n",
        "score = model.evaluate(new_X_test, y_test, verbose=1)\n",
        "print('Test loss:', score[0])\n",
        "print('Test accuracy:', score[1])\n"
      ],
      "execution_count": 15,
      "outputs": [
        {
          "output_type": "stream",
          "text": [
            "Model: \"sequential_3\"\n",
            "_________________________________________________________________\n",
            "Layer (type)                 Output Shape              Param #   \n",
            "=================================================================\n",
            "resnet50 (Functional)        (None, 2048)              23587712  \n",
            "_________________________________________________________________\n",
            "flatten_3 (Flatten)          (None, 2048)              0         \n",
            "_________________________________________________________________\n",
            "dense_6 (Dense)              (None, 64)                131136    \n",
            "_________________________________________________________________\n",
            "dropout_4 (Dropout)          (None, 64)                0         \n",
            "_________________________________________________________________\n",
            "batch_normalization_2 (Batch (None, 64)                256       \n",
            "_________________________________________________________________\n",
            "dense_7 (Dense)              (None, 10)                650       \n",
            "=================================================================\n",
            "Total params: 23,719,754\n",
            "Trainable params: 23,666,506\n",
            "Non-trainable params: 53,248\n",
            "_________________________________________________________________\n",
            "Epoch 1/20\n",
            "469/469 [==============================] - 39s 72ms/step - loss: 1.0960 - accuracy: 0.6672 - val_loss: 2.3891 - val_accuracy: 0.1797\n",
            "Epoch 2/20\n",
            "469/469 [==============================] - 33s 71ms/step - loss: 0.3640 - accuracy: 0.8991 - val_loss: 0.5859 - val_accuracy: 0.8071\n",
            "Epoch 3/20\n",
            "469/469 [==============================] - 33s 70ms/step - loss: 0.2825 - accuracy: 0.9204 - val_loss: 0.2978 - val_accuracy: 0.8973\n",
            "Epoch 4/20\n",
            "469/469 [==============================] - 33s 70ms/step - loss: 0.2297 - accuracy: 0.9373 - val_loss: 0.2929 - val_accuracy: 0.9084\n",
            "Epoch 5/20\n",
            "469/469 [==============================] - 33s 70ms/step - loss: 0.1920 - accuracy: 0.9470 - val_loss: 0.2633 - val_accuracy: 0.9146\n",
            "Epoch 6/20\n",
            "469/469 [==============================] - 33s 70ms/step - loss: 0.1724 - accuracy: 0.9510 - val_loss: 0.2795 - val_accuracy: 0.9118\n",
            "Epoch 7/20\n",
            "469/469 [==============================] - 33s 70ms/step - loss: 0.1470 - accuracy: 0.9598 - val_loss: 0.2683 - val_accuracy: 0.9193\n",
            "Epoch 8/20\n",
            "469/469 [==============================] - 33s 70ms/step - loss: 0.1336 - accuracy: 0.9635 - val_loss: 0.2649 - val_accuracy: 0.9217\n",
            "Epoch 9/20\n",
            "469/469 [==============================] - 33s 70ms/step - loss: 0.1114 - accuracy: 0.9683 - val_loss: 0.3010 - val_accuracy: 0.9163\n",
            "Epoch 10/20\n",
            "469/469 [==============================] - 33s 70ms/step - loss: 0.0954 - accuracy: 0.9737 - val_loss: 0.2930 - val_accuracy: 0.9176\n",
            "Epoch 11/20\n",
            "469/469 [==============================] - 33s 70ms/step - loss: 0.0894 - accuracy: 0.9748 - val_loss: 0.2972 - val_accuracy: 0.9199\n",
            "\n",
            "Epoch 00011: ReduceLROnPlateau reducing learning rate to 6.999999823165126e-05.\n",
            "Epoch 12/20\n",
            "469/469 [==============================] - 33s 70ms/step - loss: 0.0607 - accuracy: 0.9851 - val_loss: 0.3125 - val_accuracy: 0.9242\n",
            "Epoch 13/20\n",
            "469/469 [==============================] - 33s 71ms/step - loss: 0.0462 - accuracy: 0.9886 - val_loss: 0.3408 - val_accuracy: 0.9213\n",
            "Epoch 14/20\n",
            "469/469 [==============================] - 33s 71ms/step - loss: 0.0430 - accuracy: 0.9901 - val_loss: 0.3423 - val_accuracy: 0.9225\n",
            "Epoch 15/20\n",
            "469/469 [==============================] - 33s 71ms/step - loss: 0.0433 - accuracy: 0.9899 - val_loss: 0.3316 - val_accuracy: 0.9237\n",
            "\n",
            "Epoch 00015: ReduceLROnPlateau reducing learning rate to 4.899999621557071e-05.\n",
            "Epoch 16/20\n",
            "469/469 [==============================] - 33s 71ms/step - loss: 0.0278 - accuracy: 0.9937 - val_loss: 0.3657 - val_accuracy: 0.9282\n",
            "Epoch 17/20\n",
            "469/469 [==============================] - 33s 71ms/step - loss: 0.0196 - accuracy: 0.9964 - val_loss: 0.4051 - val_accuracy: 0.9226\n",
            "Epoch 18/20\n",
            "469/469 [==============================] - 33s 71ms/step - loss: 0.0206 - accuracy: 0.9961 - val_loss: 0.3985 - val_accuracy: 0.9243\n",
            "Epoch 19/20\n",
            "469/469 [==============================] - 33s 70ms/step - loss: 0.0209 - accuracy: 0.9956 - val_loss: 0.3921 - val_accuracy: 0.9237\n",
            "\n",
            "Epoch 00019: ReduceLROnPlateau reducing learning rate to 3.4299996332265434e-05.\n",
            "Epoch 20/20\n",
            "469/469 [==============================] - 33s 70ms/step - loss: 0.0178 - accuracy: 0.9962 - val_loss: 0.3957 - val_accuracy: 0.9290\n",
            "313/313 [==============================] - 3s 10ms/step - loss: 0.3957 - accuracy: 0.9290\n",
            "Test loss: 0.3956737518310547\n",
            "Test accuracy: 0.9290000200271606\n"
          ],
          "name": "stdout"
        }
      ]
    }
  ],
  "metadata": {
    "orig_nbformat": 2,
    "kernelspec": {
      "name": "python3",
      "display_name": "Python 3"
    },
    "colab": {
      "name": "fashion_mnist.ipynb",
      "provenance": [],
      "collapsed_sections": []
    },
    "accelerator": "GPU"
  },
  "nbformat": 4,
  "nbformat_minor": 0
}